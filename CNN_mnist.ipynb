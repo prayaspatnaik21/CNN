{
  "nbformat": 4,
  "nbformat_minor": 0,
  "metadata": {
    "colab": {
      "name": "CNN_mnist.ipynb",
      "provenance": []
    },
    "kernelspec": {
      "name": "python3",
      "display_name": "Python 3"
    },
    "language_info": {
      "name": "python"
    },
    "accelerator": "GPU"
  },
  "cells": [
    {
      "cell_type": "markdown",
      "source": [
        "\n",
        "\n",
        "*   The spatial features of a 2D image are lost when it s flattened to a 1D vector input.\n",
        "*   Parameter Issue -Number of parameters for the network increases if we flatten the input image as it is.\n",
        "\n",
        "\n",
        "\n",
        "\n",
        "*   CNN learns to recognize basic lines and curves, then shape and blobs and then increasingly complex objects within the image.It classifies the image by combining the larger,more complex objects.\n",
        "\n",
        "\n",
        "\n",
        "\n",
        "\n"
      ],
      "metadata": {
        "id": "0s3OJQ-kcc84"
      }
    },
    {
      "cell_type": "code",
      "execution_count": 25,
      "metadata": {
        "colab": {
          "base_uri": "https://localhost:8080/"
        },
        "id": "rG6yiZvWGnO1",
        "outputId": "1469e3ca-bbbe-46d9-9a5a-e40f19bb53ef"
      },
      "outputs": [
        {
          "output_type": "stream",
          "name": "stdout",
          "text": [
            "The mnist database has training set of 60000 examples\n",
            "The mnist database has training set of 60000 examples\n"
          ]
        }
      ],
      "source": [
        "from tensorflow.keras.datasets import mnist\n",
        "\n",
        "(X_train,Y_train),(X_test,Y_test) = mnist.load_data()\n",
        "\n",
        "print(f\"The mnist database has training set of {len(X_train)} examples\")\n",
        "print(f\"The mnist database has training set of {len(X_train)} examples\")"
      ]
    },
    {
      "cell_type": "markdown",
      "source": [
        "# Visualizing the Training Images\n",
        "\n"
      ],
      "metadata": {
        "id": "O_o4x_PceJNJ"
      }
    },
    {
      "cell_type": "code",
      "source": [
        "import matplotlib.pyplot as plt\n",
        "import matplotlib.cm as cm\n",
        "import numpy as np\n",
        "\n",
        "fig = plt.figure(figsize=(20,20))\n",
        "\n",
        "for it in range(10):\n",
        "  ax = fig.add_subplot(1,10,it+1,xticks=[],yticks=[])\n",
        "  ax.imshow(X_train[it],cmap='gray')\n",
        "  ax.set_title(str(Y_train[it]))\n",
        "\n"
      ],
      "metadata": {
        "colab": {
          "base_uri": "https://localhost:8080/",
          "height": 145
        },
        "id": "LMd9TD6_eEnx",
        "outputId": "081f8bdb-8cb5-4728-ad26-c708f644c53f"
      },
      "execution_count": 26,
      "outputs": [
        {
          "output_type": "display_data",
          "data": {
            "text/plain": [
              "<Figure size 1440x1440 with 10 Axes>"
            ],
            "image/png": "[encoded data removed]"
          },
          "metadata": {}
        }
      ]
    },
    {
      "cell_type": "markdown",
      "source": [
        "## Preprocess Input Images ; Rescale the image by dividing every pixel in every image by 255"
      ],
      "metadata": {
        "id": "ZPUXI904gMyk"
      }
    },
    {
      "cell_type": "code",
      "source": [
        "# Rescale to have values within 0-1 range [0,255] --> [0,1]\n",
        "\n",
        "X_train = X_train.astype('float32')/255\n",
        "X_test = X_test.astype('float32')/255\n",
        "\n",
        "print(f\"X_train shape : {X_train.shape}\")\n",
        "print(f\"{X_train.shape[0]} train examples\")\n",
        "print(f\"{X_test.shape[0]} test examples\")"
      ],
      "metadata": {
        "colab": {
          "base_uri": "https://localhost:8080/"
        },
        "id": "r2U_dQmHeq92",
        "outputId": "6e193b91-4734-49cc-c873-50dd4957bec9"
      },
      "execution_count": 27,
      "outputs": [
        {
          "output_type": "stream",
          "name": "stdout",
          "text": [
            "X_train shape : (60000, 28, 28)\n",
            "60000 train examples\n",
            "10000 test examples\n"
          ]
        }
      ]
    },
    {
      "cell_type": "markdown",
      "source": [
        "# Preprocess the Labels"
      ],
      "metadata": {
        "id": "uMFCQ3REhPrJ"
      }
    },
    {
      "cell_type": "code",
      "source": [
        "from keras.utils import np_utils\n",
        "\n",
        "num_classes = 10\n",
        "\n",
        "# Print First Ten (integer - valued) training labels\n",
        "print('Integer valued labels:')\n",
        "print(Y_train[:10])\n",
        "\n",
        "#One hot encode the labels\n",
        "#Convert class vectors to binary class matrices\n",
        "\n",
        "Y_train = np_utils.to_categorical(Y_train,num_classes)\n",
        "Y_test = np_utils.to_categorical(Y_test,num_classes)\n",
        "\n",
        "#Print first ten (one-hot) training labels\n",
        "print('One-ht labels')\n",
        "print(Y_train[:10])"
      ],
      "metadata": {
        "colab": {
          "base_uri": "https://localhost:8080/"
        },
        "id": "oRygVF3ahFI7",
        "outputId": "5d129124-a764-4865-8588-96d23a8fcb9e"
      },
      "execution_count": 28,
      "outputs": [
        {
          "output_type": "stream",
          "name": "stdout",
          "text": [
            "Integer valued labels:\n",
            "[5 0 4 1 9 2 1 3 1 4]\n",
            "One-ht labels\n",
            "[[0. 0. 0. 0. 0. 1. 0. 0. 0. 0.]\n",
            " [1. 0. 0. 0. 0. 0. 0. 0. 0. 0.]\n",
            " [0. 0. 0. 0. 1. 0. 0. 0. 0. 0.]\n",
            " [0. 1. 0. 0. 0. 0. 0. 0. 0. 0.]\n",
            " [0. 0. 0. 0. 0. 0. 0. 0. 0. 1.]\n",
            " [0. 0. 1. 0. 0. 0. 0. 0. 0. 0.]\n",
            " [0. 1. 0. 0. 0. 0. 0. 0. 0. 0.]\n",
            " [0. 0. 0. 1. 0. 0. 0. 0. 0. 0.]\n",
            " [0. 1. 0. 0. 0. 0. 0. 0. 0. 0.]\n",
            " [0. 0. 0. 0. 1. 0. 0. 0. 0. 0.]]\n"
          ]
        }
      ]
    },
    {
      "cell_type": "markdown",
      "source": [
        "# Reshape data to fit our CNN "
      ],
      "metadata": {
        "id": "ld_k9JHqr7Sv"
      }
    },
    {
      "cell_type": "code",
      "source": [
        "imageRows , imageColumns = 28,28\n",
        "\n",
        "X_train = X_train.reshape(X_train.shape[0],imageRows , imageColumns, 1)\n",
        "X_test = X_test.reshape(X_test.shape[0],imageRows , imageColumns, 1)\n",
        "inputShape = (imageRows,imageColumns,1)\n",
        "\n",
        "print(f'input shape:{inputShape}')\n",
        "print(f'X_train shape:{X_train.shape}')"
      ],
      "metadata": {
        "colab": {
          "base_uri": "https://localhost:8080/"
        },
        "id": "uKJ9IkUXr1F6",
        "outputId": "8fc38e2a-95f6-4312-9df2-fd9bea7d1fce"
      },
      "execution_count": 29,
      "outputs": [
        {
          "output_type": "stream",
          "name": "stdout",
          "text": [
            "input shape:(28, 28, 1)\n",
            "X_train shape:(60000, 28, 28, 1)\n"
          ]
        }
      ]
    },
    {
      "cell_type": "markdown",
      "source": [
        "# Define the model Architecture"
      ],
      "metadata": {
        "id": "7WMa_qABtAqK"
      }
    },
    {
      "cell_type": "markdown",
      "source": [
        "\n",
        "\n",
        "*   Always add a ReLU activation function to the Conv2D layers in CNN.with the exception of the final layer in the netowrk , Dense Layers should also have a ReLU activation function.\n",
        "*   When Constructing a network for classification, the final layer in the network should be a Dense Layer with a softmax activation function.The number of nodes in the final layer should equal to the total number of classes in the dataset.\n",
        "\n"
      ],
      "metadata": {
        "id": "NY5ZdMl6tIV6"
      }
    },
    {
      "cell_type": "code",
      "source": [
        "from tensorflow.keras.models import Sequential\n",
        "from tensorflow.keras.layers import Conv2D , MaxPooling2D, Flatten , Dense , Dropout,GlobalAveragePooling2D\n",
        "\n",
        "# Create a Sequential Object\n",
        "modelCNN = Sequential()\n",
        "\n",
        "# CONV1: add CONV layer with reLU activation and depth =32 kernels.\n",
        "#Input shape is (28,28,1) because it is a gray scale image.\n",
        "#It has 1 channel.\n",
        "modelCNN.add(Conv2D(32,kernel_size = (3,3),padding = 'same',activation='relu',input_shape=(28,28,1))) # 28*28*32\n",
        "\n",
        "#POOL_1 downsample the image to choose the best features\n",
        "modelCNN.add(MaxPooling2D(pool_size=(2,2))) # 14*14*32\n",
        "\n",
        "#CONV_2 increase the depth to 64\n",
        "modelCNN.add(Conv2D(64,(3,3),padding='same',activation='relu')) # 14*14*64\n",
        "\n",
        "#POOL_2 more downsampling\n",
        "modelCNN.add(MaxPooling2D(pool_size=(2,2))) # 7*7*64\n",
        "\n",
        "# Flatten the layer\n",
        "modelCNN.add(Flatten()) # 3136\n",
        "\n",
        "# FC_1: Fully connected to get all the details\n",
        "modelCNN.add(Dense(64,activation='relu')) \n",
        "\n",
        "#3FC_2 : Output a softmax to squash the matrix into output probabilities for the 10 classes\n",
        "modelCNN.add(Dense(10,activation='softmax'))\n",
        "modelCNN.summary()"
      ],
      "metadata": {
        "colab": {
          "base_uri": "https://localhost:8080/"
        },
        "id": "YKquQdISs6-Z",
        "outputId": "1dcbf724-cf4c-4246-929a-60007014511e"
      },
      "execution_count": 30,
      "outputs": [
        {
          "output_type": "stream",
          "name": "stdout",
          "text": [
            "Model: \"sequential_5\"\n",
            "_________________________________________________________________\n",
            " Layer (type)                Output Shape              Param #   \n",
            "=================================================================\n",
            " conv2d_9 (Conv2D)           (None, 28, 28, 32)        320       \n",
            "                                                                 \n",
            " max_pooling2d_8 (MaxPooling  (None, 14, 14, 32)       0         \n",
            " 2D)                                                             \n",
            "                                                                 \n",
            " conv2d_10 (Conv2D)          (None, 14, 14, 64)        18496     \n",
            "                                                                 \n",
            " max_pooling2d_9 (MaxPooling  (None, 7, 7, 64)         0         \n",
            " 2D)                                                             \n",
            "                                                                 \n",
            " flatten_4 (Flatten)         (None, 3136)              0         \n",
            "                                                                 \n",
            " dense_8 (Dense)             (None, 64)                200768    \n",
            "                                                                 \n",
            " dense_9 (Dense)             (None, 10)                650       \n",
            "                                                                 \n",
            "=================================================================\n",
            "Total params: 220,234\n",
            "Trainable params: 220,234\n",
            "Non-trainable params: 0\n",
            "_________________________________________________________________\n"
          ]
        }
      ]
    },
    {
      "cell_type": "code",
      "source": [
        "modelCNN_2= Sequential()\n",
        "\n",
        "# CONV1: add CONV layer with reLU activation and depth =16 kernels.\n",
        "#Input shape is (28,28,1) because it is a gray scale image.\n",
        "#It has 1 channel.\n",
        "modelCNN_2.add(Conv2D(16,kernel_size = (3,3),padding = 'same',activation='relu',input_shape=(28,28,1))) # 28*28*16\n",
        "\n",
        "#POOL_1 downsample the image to choose the best features\n",
        "modelCNN_2.add(MaxPooling2D(pool_size=(2,2))) # 14*14*16\n",
        "\n",
        "#CONV_2 increase the depth to 32\n",
        "modelCNN_2.add(Conv2D(32,(3,3),padding='same',activation='relu')) # 14*14*32\n",
        "\n",
        "#POOL_2 more downsampling\n",
        "modelCNN_2.add(MaxPooling2D(pool_size=(2,2))) # 7*7*32\n",
        "\n",
        "# Flatten the layer\n",
        "modelCNN_2.add(Flatten()) # 1568\n",
        "\n",
        "# FC_1: Fully connected to get all the details\n",
        "modelCNN_2.add(Dense(32,activation='relu')) \n",
        "\n",
        "#3FC_2 : Output a softmax to squash the matrix into output probabilities for the 10 classes\n",
        "modelCNN_2.add(Dense(10,activation='softmax'))\n",
        "modelCNN_2.summary()"
      ],
      "metadata": {
        "colab": {
          "base_uri": "https://localhost:8080/"
        },
        "id": "uEds1mI2I4YT",
        "outputId": "ba434abf-b834-48fa-ee72-150409e2320f"
      },
      "execution_count": 31,
      "outputs": [
        {
          "output_type": "stream",
          "name": "stdout",
          "text": [
            "Model: \"sequential_6\"\n",
            "_________________________________________________________________\n",
            " Layer (type)                Output Shape              Param #   \n",
            "=================================================================\n",
            " conv2d_11 (Conv2D)          (None, 28, 28, 16)        160       \n",
            "                                                                 \n",
            " max_pooling2d_10 (MaxPoolin  (None, 14, 14, 16)       0         \n",
            " g2D)                                                            \n",
            "                                                                 \n",
            " conv2d_12 (Conv2D)          (None, 14, 14, 32)        4640      \n",
            "                                                                 \n",
            " max_pooling2d_11 (MaxPoolin  (None, 7, 7, 32)         0         \n",
            " g2D)                                                            \n",
            "                                                                 \n",
            " flatten_5 (Flatten)         (None, 1568)              0         \n",
            "                                                                 \n",
            " dense_10 (Dense)            (None, 32)                50208     \n",
            "                                                                 \n",
            " dense_11 (Dense)            (None, 10)                330       \n",
            "                                                                 \n",
            "=================================================================\n",
            "Total params: 55,338\n",
            "Trainable params: 55,338\n",
            "Non-trainable params: 0\n",
            "_________________________________________________________________\n"
          ]
        }
      ]
    },
    {
      "cell_type": "code",
      "source": [
        "modelCNN_3= Sequential()\n",
        "\n",
        "# CONV1: add CONV layer with reLU activation and depth =16 kernels.\n",
        "#Input shape is (28,28,1) because it is a gray scale image.\n",
        "#It has 1 channel.\n",
        "modelCNN_3.add(Conv2D(128,kernel_size = (3,3),padding = 'same',activation='relu',input_shape=(28,28,1))) # 28*28*128\n",
        "\n",
        "#POOL_1 downsample the image to choose the best features\n",
        "modelCNN_3.add(MaxPooling2D(pool_size=(2,2))) # 14*14*128\n",
        "\n",
        "#CONV_2 increase the depth to 32\n",
        "modelCNN_3.add(Conv2D(256,(3,3),padding='same',activation='relu')) # 14*14*256\n",
        "\n",
        "#POOL_2 more downsampling\n",
        "modelCNN_3.add(MaxPooling2D(pool_size=(2,2))) # 7*7*256\n",
        "\n",
        "# Flatten the layer\n",
        "modelCNN_3.add(Flatten()) # 12544\n",
        "\n",
        "# FC_1: Fully connected to get all the details\n",
        "modelCNN_3.add(Dense(32,activation='relu')) \n",
        "\n",
        "#3FC_2 : Output a softmax to squash the matrix into output probabilities for the 10 classes\n",
        "modelCNN_3.add(Dense(10,activation='softmax'))\n",
        "modelCNN_3.summary()"
      ],
      "metadata": {
        "id": "ZQixOfUdMKyF",
        "outputId": "abdf7b01-39f8-437a-d877-5ac91e89e946",
        "colab": {
          "base_uri": "https://localhost:8080/"
        }
      },
      "execution_count": 32,
      "outputs": [
        {
          "output_type": "stream",
          "name": "stdout",
          "text": [
            "Model: \"sequential_7\"\n",
            "_________________________________________________________________\n",
            " Layer (type)                Output Shape              Param #   \n",
            "=================================================================\n",
            " conv2d_13 (Conv2D)          (None, 28, 28, 128)       1280      \n",
            "                                                                 \n",
            " max_pooling2d_12 (MaxPoolin  (None, 14, 14, 128)      0         \n",
            " g2D)                                                            \n",
            "                                                                 \n",
            " conv2d_14 (Conv2D)          (None, 14, 14, 256)       295168    \n",
            "                                                                 \n",
            " max_pooling2d_13 (MaxPoolin  (None, 7, 7, 256)        0         \n",
            " g2D)                                                            \n",
            "                                                                 \n",
            " flatten_6 (Flatten)         (None, 12544)             0         \n",
            "                                                                 \n",
            " dense_12 (Dense)            (None, 32)                401440    \n",
            "                                                                 \n",
            " dense_13 (Dense)            (None, 10)                330       \n",
            "                                                                 \n",
            "=================================================================\n",
            "Total params: 698,218\n",
            "Trainable params: 698,218\n",
            "Non-trainable params: 0\n",
            "_________________________________________________________________\n"
          ]
        }
      ]
    },
    {
      "cell_type": "markdown",
      "source": [
        "# Compile the Model"
      ],
      "metadata": {
        "id": "ryhYsnOiFhXV"
      }
    },
    {
      "cell_type": "code",
      "source": [
        "modelCNN.compile(loss ='categorical_crossentropy',optimizer = 'rmsprop',metrics = ['accuracy'])\n",
        "modelCNN_2.compile(loss ='categorical_crossentropy',optimizer = 'rmsprop',metrics = ['accuracy'])\n",
        "modelCNN_3.compile(loss ='categorical_crossentropy',optimizer = 'rmsprop',metrics = ['accuracy'])"
      ],
      "metadata": {
        "id": "3URPfWlBs_eu"
      },
      "execution_count": 33,
      "outputs": []
    },
    {
      "cell_type": "markdown",
      "source": [
        "# Train the Model"
      ],
      "metadata": {
        "id": "vfy_zUjfFwj9"
      }
    },
    {
      "cell_type": "code",
      "source": [
        "from tensorflow.keras.callbacks import ModelCheckpoint\n",
        "\n",
        "#train the model\n",
        "checkpointer1 = ModelCheckpoint(filepath='model.weights_CNN.best.hdf5',verbose=1,save_best_only=True)\n",
        "\n",
        "modelFit1 = modelCNN.fit(X_train,Y_train, batch_size = 64 , epochs = 10, validation_data = (X_test,Y_test),callbacks=[checkpointer1],verbose=2,shuffle=True)\n",
        "\n",
        "checkpointer2 = ModelCheckpoint(filepath='model.weights_CNN_2.best.hdf5',verbose=1,save_best_only=True)\n",
        "modelFit2 = modelCNN_2.fit(X_train,Y_train, batch_size = 64 , epochs = 10, validation_data = (X_test,Y_test),callbacks=[checkpointer2],verbose=2,shuffle=True)\n",
        "\n",
        "checkpointer3 = ModelCheckpoint(filepath='model.weights_CNN_3.best.hdf5',verbose=1,save_best_only=True)\n",
        "modelFit2 = modelCNN_3.fit(X_train,Y_train, batch_size = 64 , epochs = 10, validation_data = (X_test,Y_test),callbacks=[checkpointer3],verbose=2,shuffle=True)"
      ],
      "metadata": {
        "colab": {
          "base_uri": "https://localhost:8080/"
        },
        "id": "ZOX10s4CFsMb",
        "outputId": "f9f64823-628b-42c9-c998-4bcbeb76f3f4"
      },
      "execution_count": 37,
      "outputs": [
        {
          "output_type": "stream",
          "name": "stdout",
          "text": [
            "Epoch 1/10\n",
            "\n",
            "Epoch 1: val_loss improved from inf to 0.03772, saving model to model.weights_CNN.best.hdf5\n",
            "938/938 - 4s - loss: 0.0200 - accuracy: 0.9941 - val_loss: 0.0377 - val_accuracy: 0.9888 - 4s/epoch - 4ms/step\n",
            "Epoch 2/10\n",
            "\n",
            "Epoch 2: val_loss improved from 0.03772 to 0.03536, saving model to model.weights_CNN.best.hdf5\n",
            "938/938 - 4s - loss: 0.0160 - accuracy: 0.9950 - val_loss: 0.0354 - val_accuracy: 0.9902 - 4s/epoch - 4ms/step\n",
            "Epoch 3/10\n",
            "\n",
            "Epoch 3: val_loss improved from 0.03536 to 0.03465, saving model to model.weights_CNN.best.hdf5\n",
            "938/938 - 4s - loss: 0.0124 - accuracy: 0.9961 - val_loss: 0.0347 - val_accuracy: 0.9902 - 4s/epoch - 4ms/step\n",
            "Epoch 4/10\n",
            "\n",
            "Epoch 4: val_loss improved from 0.03465 to 0.02929, saving model to model.weights_CNN.best.hdf5\n",
            "938/938 - 4s - loss: 0.0105 - accuracy: 0.9968 - val_loss: 0.0293 - val_accuracy: 0.9919 - 4s/epoch - 4ms/step\n",
            "Epoch 5/10\n",
            "\n",
            "Epoch 5: val_loss improved from 0.02929 to 0.02899, saving model to model.weights_CNN.best.hdf5\n",
            "938/938 - 4s - loss: 0.0086 - accuracy: 0.9974 - val_loss: 0.0290 - val_accuracy: 0.9928 - 4s/epoch - 4ms/step\n",
            "Epoch 6/10\n",
            "\n",
            "Epoch 6: val_loss did not improve from 0.02899\n",
            "938/938 - 4s - loss: 0.0071 - accuracy: 0.9979 - val_loss: 0.0296 - val_accuracy: 0.9924 - 4s/epoch - 4ms/step\n",
            "Epoch 7/10\n",
            "\n",
            "Epoch 7: val_loss did not improve from 0.02899\n",
            "938/938 - 4s - loss: 0.0057 - accuracy: 0.9984 - val_loss: 0.0331 - val_accuracy: 0.9926 - 4s/epoch - 4ms/step\n",
            "Epoch 8/10\n",
            "\n",
            "Epoch 8: val_loss did not improve from 0.02899\n",
            "938/938 - 4s - loss: 0.0043 - accuracy: 0.9988 - val_loss: 0.0389 - val_accuracy: 0.9922 - 4s/epoch - 4ms/step\n",
            "Epoch 9/10\n",
            "\n",
            "Epoch 9: val_loss did not improve from 0.02899\n",
            "938/938 - 4s - loss: 0.0041 - accuracy: 0.9990 - val_loss: 0.0467 - val_accuracy: 0.9919 - 4s/epoch - 4ms/step\n",
            "Epoch 10/10\n",
            "\n",
            "Epoch 10: val_loss did not improve from 0.02899\n",
            "938/938 - 4s - loss: 0.0036 - accuracy: 0.9990 - val_loss: 0.0453 - val_accuracy: 0.9912 - 4s/epoch - 4ms/step\n",
            "Epoch 1/10\n",
            "\n",
            "Epoch 1: val_loss improved from inf to 0.03484, saving model to model.weights_CNN_2.best.hdf5\n",
            "938/938 - 4s - loss: 0.0119 - accuracy: 0.9962 - val_loss: 0.0348 - val_accuracy: 0.9904 - 4s/epoch - 4ms/step\n",
            "Epoch 2/10\n",
            "\n",
            "Epoch 2: val_loss did not improve from 0.03484\n",
            "938/938 - 4s - loss: 0.0100 - accuracy: 0.9970 - val_loss: 0.0420 - val_accuracy: 0.9892 - 4s/epoch - 4ms/step\n",
            "Epoch 3/10\n",
            "\n",
            "Epoch 3: val_loss did not improve from 0.03484\n",
            "938/938 - 4s - loss: 0.0095 - accuracy: 0.9971 - val_loss: 0.0430 - val_accuracy: 0.9899 - 4s/epoch - 4ms/step\n",
            "Epoch 4/10\n",
            "\n",
            "Epoch 4: val_loss did not improve from 0.03484\n",
            "938/938 - 4s - loss: 0.0081 - accuracy: 0.9976 - val_loss: 0.0412 - val_accuracy: 0.9902 - 4s/epoch - 4ms/step\n",
            "Epoch 5/10\n",
            "\n",
            "Epoch 5: val_loss did not improve from 0.03484\n",
            "938/938 - 4s - loss: 0.0070 - accuracy: 0.9978 - val_loss: 0.0495 - val_accuracy: 0.9894 - 4s/epoch - 4ms/step\n",
            "Epoch 6/10\n",
            "\n",
            "Epoch 6: val_loss did not improve from 0.03484\n",
            "938/938 - 4s - loss: 0.0064 - accuracy: 0.9981 - val_loss: 0.0401 - val_accuracy: 0.9907 - 4s/epoch - 4ms/step\n",
            "Epoch 7/10\n",
            "\n",
            "Epoch 7: val_loss did not improve from 0.03484\n",
            "938/938 - 4s - loss: 0.0060 - accuracy: 0.9981 - val_loss: 0.0473 - val_accuracy: 0.9899 - 4s/epoch - 4ms/step\n",
            "Epoch 8/10\n",
            "\n",
            "Epoch 8: val_loss did not improve from 0.03484\n",
            "938/938 - 4s - loss: 0.0057 - accuracy: 0.9983 - val_loss: 0.0550 - val_accuracy: 0.9892 - 4s/epoch - 4ms/step\n",
            "Epoch 9/10\n",
            "\n",
            "Epoch 9: val_loss did not improve from 0.03484\n",
            "938/938 - 4s - loss: 0.0047 - accuracy: 0.9986 - val_loss: 0.0529 - val_accuracy: 0.9909 - 4s/epoch - 4ms/step\n",
            "Epoch 10/10\n",
            "\n",
            "Epoch 10: val_loss did not improve from 0.03484\n",
            "938/938 - 4s - loss: 0.0048 - accuracy: 0.9986 - val_loss: 0.0523 - val_accuracy: 0.9903 - 4s/epoch - 4ms/step\n",
            "Epoch 1/10\n",
            "\n",
            "Epoch 1: val_loss improved from inf to 0.05239, saving model to model.weights_CNN_3.best.hdf5\n",
            "938/938 - 8s - loss: 0.0047 - accuracy: 0.9988 - val_loss: 0.0524 - val_accuracy: 0.9923 - 8s/epoch - 8ms/step\n",
            "Epoch 2/10\n",
            "\n",
            "Epoch 2: val_loss did not improve from 0.05239\n",
            "938/938 - 8s - loss: 0.0046 - accuracy: 0.9988 - val_loss: 0.0672 - val_accuracy: 0.9904 - 8s/epoch - 8ms/step\n",
            "Epoch 3/10\n",
            "\n",
            "Epoch 3: val_loss did not improve from 0.05239\n",
            "938/938 - 8s - loss: 0.0041 - accuracy: 0.9988 - val_loss: 0.0580 - val_accuracy: 0.9920 - 8s/epoch - 8ms/step\n",
            "Epoch 4/10\n",
            "\n",
            "Epoch 4: val_loss did not improve from 0.05239\n",
            "938/938 - 8s - loss: 0.0041 - accuracy: 0.9988 - val_loss: 0.0569 - val_accuracy: 0.9921 - 8s/epoch - 8ms/step\n",
            "Epoch 5/10\n",
            "\n",
            "Epoch 5: val_loss did not improve from 0.05239\n",
            "938/938 - 8s - loss: 0.0026 - accuracy: 0.9992 - val_loss: 0.0720 - val_accuracy: 0.9908 - 8s/epoch - 8ms/step\n",
            "Epoch 6/10\n",
            "\n",
            "Epoch 6: val_loss did not improve from 0.05239\n",
            "938/938 - 8s - loss: 0.0027 - accuracy: 0.9994 - val_loss: 0.0688 - val_accuracy: 0.9919 - 8s/epoch - 8ms/step\n",
            "Epoch 7/10\n",
            "\n",
            "Epoch 7: val_loss did not improve from 0.05239\n",
            "938/938 - 8s - loss: 0.0027 - accuracy: 0.9993 - val_loss: 0.0842 - val_accuracy: 0.9913 - 8s/epoch - 8ms/step\n",
            "Epoch 8/10\n",
            "\n",
            "Epoch 8: val_loss did not improve from 0.05239\n",
            "938/938 - 8s - loss: 0.0026 - accuracy: 0.9993 - val_loss: 0.0782 - val_accuracy: 0.9911 - 8s/epoch - 8ms/step\n",
            "Epoch 9/10\n",
            "\n",
            "Epoch 9: val_loss did not improve from 0.05239\n",
            "938/938 - 8s - loss: 0.0027 - accuracy: 0.9994 - val_loss: 0.0885 - val_accuracy: 0.9917 - 8s/epoch - 8ms/step\n",
            "Epoch 10/10\n",
            "\n",
            "Epoch 10: val_loss did not improve from 0.05239\n",
            "938/938 - 8s - loss: 0.0027 - accuracy: 0.9994 - val_loss: 0.0774 - val_accuracy: 0.9921 - 8s/epoch - 8ms/step\n"
          ]
        }
      ]
    },
    {
      "cell_type": "markdown",
      "source": [
        "# Load the Model with the Best Classification Accuracy on the Validation Set"
      ],
      "metadata": {
        "id": "vpqAsUTZH0zE"
      }
    },
    {
      "cell_type": "code",
      "source": [
        "# Load the weights that yielded the best validation accuracy\n",
        "modelCNN.load_weights('model.weights_CNN.best.hdf5')\n",
        "modelCNN_2.load_weights('model.weights_CNN_2.best.hdf5')\n",
        "modelCNN_3.load_weights('model.weights_CNN_3.best.hdf5')"
      ],
      "metadata": {
        "id": "k36Bn7jcGkbF"
      },
      "execution_count": 38,
      "outputs": []
    },
    {
      "cell_type": "markdown",
      "source": [
        "# Calculate the classification Accuracy on the Test Set"
      ],
      "metadata": {
        "id": "02xvefYaIJwf"
      }
    },
    {
      "cell_type": "code",
      "source": [
        "# evaluate test Accuracy\n",
        "score = modelCNN.evaluate(X_test,Y_test,verbose=0)\n",
        "accuracy = 100*score[1]\n",
        "\n",
        "# Print Test Accuracy\n",
        "print('Test Accuracy modelCNN: %.4f%%' % accuracy)\n",
        "\n",
        "score = modelCNN_2.evaluate(X_test,Y_test,verbose=0)\n",
        "accuracy = 100*score[1]\n",
        "# Print Test Accuracy\n",
        "print('Test Accuracy modelCNN2: %.4f%%' % accuracy)\n",
        "\n",
        "score = modelCNN_3.evaluate(X_test,Y_test,verbose=0)\n",
        "accuracy = 100*score[1]\n",
        "# Print Test Accuracy\n",
        "print('Test Accuracy modelCNN3: %.4f%%' % accuracy)"
      ],
      "metadata": {
        "colab": {
          "base_uri": "https://localhost:8080/"
        },
        "id": "YlMOOkzhIG0Z",
        "outputId": "ec9f07d4-675c-4933-b3b7-1b8681a5a23c"
      },
      "execution_count": 39,
      "outputs": [
        {
          "output_type": "stream",
          "name": "stdout",
          "text": [
            "Test Accuracy modelCNN: 99.2800%\n",
            "Test Accuracy modelCNN2: 99.0400%\n",
            "Test Accuracy modelCNN3: 99.2300%\n"
          ]
        }
      ]
    },
    {
      "cell_type": "code",
      "source": [
        ""
      ],
      "metadata": {
        "id": "r73gPO1ZIks_"
      },
      "execution_count": null,
      "outputs": []
    }
  ]
}