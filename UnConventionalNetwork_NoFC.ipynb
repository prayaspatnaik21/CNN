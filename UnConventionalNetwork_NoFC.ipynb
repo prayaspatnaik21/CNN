{
  "nbformat": 4,
  "nbformat_minor": 0,
  "metadata": {
    "colab": {
      "name": "UnConventionalNetwork_NoFC.ipynb",
      "provenance": []
    },
    "kernelspec": {
      "name": "python3",
      "display_name": "Python 3"
    },
    "language_info": {
      "name": "python"
    },
    "accelerator": "GPU",
    "gpuClass": "standard"
  },
  "cells": [
    {
      "cell_type": "code",
      "execution_count": 12,
      "metadata": {
        "id": "MD43VRHY_3JL"
      },
      "outputs": [],
      "source": [
        "import pandas as pd\n",
        "import numpy as np\n",
        "import tensorflow as tf\n",
        "from tensorflow import keras\n",
        "import matplotlib.pyplot as plt\n",
        "from tensorflow.keras.datasets import mnist"
      ]
    },
    {
      "cell_type": "markdown",
      "source": [
        "# Load MNIST Data"
      ],
      "metadata": {
        "id": "Uau8tDSnKUGo"
      }
    },
    {
      "cell_type": "code",
      "source": [
        "(X_train, y_train),(X_test,y_test) =  mnist.load_data()\n",
        "print(X_train.shape)"
      ],
      "metadata": {
        "colab": {
          "base_uri": "https://localhost:8080/"
        },
        "id": "lgDMhYCuAJBQ",
        "outputId": "dfa11c47-303f-45f3-fd7c-e41a80c27e7e"
      },
      "execution_count": 3,
      "outputs": [
        {
          "output_type": "stream",
          "name": "stdout",
          "text": [
            "(60000, 28, 28)\n"
          ]
        }
      ]
    },
    {
      "cell_type": "code",
      "source": [
        "plt.imshow(X_train[0])"
      ],
      "metadata": {
        "id": "xCcKkJ2QKlU1",
        "outputId": "fce28488-5e28-4cf1-fada-6b35e39ff32b",
        "colab": {
          "base_uri": "https://localhost:8080/",
          "height": 282
        }
      },
      "execution_count": 5,
      "outputs": [
        {
          "output_type": "execute_result",
          "data": {
            "text/plain": [
              "<matplotlib.image.AxesImage at 0x7ff393293890>"
            ]
          },
          "metadata": {},
          "execution_count": 5
        },
        {
          "output_type": "display_data",
          "data": {
            "text/plain": [
              "<Figure size 432x288 with 1 Axes>"
            ],
            "image/png": "[encoded data removed]"
          },
          "metadata": {
            "needs_background": "light"
          }
        }
      ]
    },
    {
      "cell_type": "markdown",
      "source": [
        "# Reshaping the DataSet"
      ],
      "metadata": {
        "id": "GbDXT1F5Kxn8"
      }
    },
    {
      "cell_type": "code",
      "source": [
        "X_train = X_train.reshape(X_train.shape[0],28,28,1)\n",
        "X_test = X_test.reshape(X_test.shape[0],28,28,1)"
      ],
      "metadata": {
        "id": "5OmDZmbMKtpx"
      },
      "execution_count": 7,
      "outputs": []
    },
    {
      "cell_type": "code",
      "source": [
        "X_train.shape"
      ],
      "metadata": {
        "id": "Ib6b6YaBP0-O",
        "outputId": "cb1543f9-c4a3-45d8-b968-d4a4fb4032c4",
        "colab": {
          "base_uri": "https://localhost:8080/"
        }
      },
      "execution_count": 27,
      "outputs": [
        {
          "output_type": "execute_result",
          "data": {
            "text/plain": [
              "(60000, 28, 28, 1)"
            ]
          },
          "metadata": {},
          "execution_count": 27
        }
      ]
    },
    {
      "cell_type": "markdown",
      "source": [
        "# Type Conversion and Normalization"
      ],
      "metadata": {
        "id": "C_zpl0fRLHtv"
      }
    },
    {
      "cell_type": "code",
      "source": [
        "X_train = X_train.astype('float32')\n",
        "X_test = X_test.astype('float32')\n",
        "\n",
        "X_train /= 255\n",
        "X_test /= 255"
      ],
      "metadata": {
        "id": "Gg3JHGCjLCSZ"
      },
      "execution_count": 9,
      "outputs": []
    },
    {
      "cell_type": "code",
      "source": [
        "y_train[:10]"
      ],
      "metadata": {
        "id": "pVAfwyWFLUq3",
        "outputId": "51db4661-be66-4b71-eddc-9958df1693da",
        "colab": {
          "base_uri": "https://localhost:8080/"
        }
      },
      "execution_count": 10,
      "outputs": [
        {
          "output_type": "execute_result",
          "data": {
            "text/plain": [
              "array([5, 0, 4, 1, 9, 2, 1, 3, 1, 4], dtype=uint8)"
            ]
          },
          "metadata": {},
          "execution_count": 10
        }
      ]
    },
    {
      "cell_type": "markdown",
      "source": [
        "# One hot encoding"
      ],
      "metadata": {
        "id": "B8BGfegpLkE4"
      }
    },
    {
      "cell_type": "code",
      "source": [
        "y_train = tf.keras.utils.to_categorical(y_train,10)\n",
        "y_test = tf.keras.utils.to_categorical(y_test, 10)"
      ],
      "metadata": {
        "id": "mISvyO9YLZ_N"
      },
      "execution_count": 16,
      "outputs": []
    },
    {
      "cell_type": "code",
      "source": [
        "y_train[:10]"
      ],
      "metadata": {
        "id": "u8Xv14bOMHAe",
        "outputId": "5b919f3e-822a-41ac-dc59-711eea2cf3e5",
        "colab": {
          "base_uri": "https://localhost:8080/"
        }
      },
      "execution_count": 17,
      "outputs": [
        {
          "output_type": "execute_result",
          "data": {
            "text/plain": [
              "array([[0., 0., 0., 0., 0., 1., 0., 0., 0., 0.],\n",
              "       [1., 0., 0., 0., 0., 0., 0., 0., 0., 0.],\n",
              "       [0., 0., 0., 0., 1., 0., 0., 0., 0., 0.],\n",
              "       [0., 1., 0., 0., 0., 0., 0., 0., 0., 0.],\n",
              "       [0., 0., 0., 0., 0., 0., 0., 0., 0., 1.],\n",
              "       [0., 0., 1., 0., 0., 0., 0., 0., 0., 0.],\n",
              "       [0., 1., 0., 0., 0., 0., 0., 0., 0., 0.],\n",
              "       [0., 0., 0., 1., 0., 0., 0., 0., 0., 0.],\n",
              "       [0., 1., 0., 0., 0., 0., 0., 0., 0., 0.],\n",
              "       [0., 0., 0., 0., 1., 0., 0., 0., 0., 0.]], dtype=float32)"
            ]
          },
          "metadata": {},
          "execution_count": 17
        }
      ]
    },
    {
      "cell_type": "code",
      "source": [
        "y_train.shape"
      ],
      "metadata": {
        "id": "XL34gg1QT3y7",
        "outputId": "6fb5fed2-7f91-4300-e2e1-58cb13ab3384",
        "colab": {
          "base_uri": "https://localhost:8080/"
        }
      },
      "execution_count": 40,
      "outputs": [
        {
          "output_type": "execute_result",
          "data": {
            "text/plain": [
              "(60000, 10)"
            ]
          },
          "metadata": {},
          "execution_count": 40
        }
      ]
    },
    {
      "cell_type": "markdown",
      "source": [
        "# Model Architecture"
      ],
      "metadata": {
        "id": "-XACMmKaMeu1"
      }
    },
    {
      "cell_type": "code",
      "source": [
        "model = tf.keras.models.Sequential()\n",
        "model.add(tf.keras.layers.Conv2D(10,kernel_size=(3, 3), activation = 'relu',input_shape = (28,28,1)))\n",
        "model.add(tf.keras.layers.BatchNormalization())\n",
        "model.add(tf.keras.layers.Dropout(0.1))\n",
        "\n",
        "model.add(tf.keras.layers.Conv2D(16,kernel_size=(3, 3), activation = 'relu'))\n",
        "model.add(tf.keras.layers.BatchNormalization())\n",
        "model.add(tf.keras.layers.Dropout(0.1))\n",
        "\n",
        "model.add(tf.keras.layers.Conv2D(10,kernel_size=(1, 1), activation = 'relu'))\n",
        "model.add(tf.keras.layers.MaxPooling2D(pool_size=(2,2)))\n",
        "\n",
        "\n",
        "model.add(tf.keras.layers.Conv2D(16,kernel_size=(3, 3), activation = 'relu'))\n",
        "model.add(tf.keras.layers.BatchNormalization())\n",
        "model.add(tf.keras.layers.Dropout(0.1))\n",
        "\n",
        "\n",
        "model.add(tf.keras.layers.Conv2D(16,kernel_size=(3, 3), activation = 'relu'))\n",
        "model.add(tf.keras.layers.BatchNormalization())\n",
        "model.add(tf.keras.layers.Dropout(0.1))\n",
        "\n",
        "\n",
        "model.add(tf.keras.layers.Conv2D(16,kernel_size=(3, 3), activation = 'relu'))\n",
        "model.add(tf.keras.layers.BatchNormalization())\n",
        "model.add(tf.keras.layers.Dropout(0.1))\n",
        "\n",
        "model.add(tf.keras.layers.Conv2D(16,kernel_size=(3, 3), activation = 'relu'))\n",
        "model.add(tf.keras.layers.BatchNormalization())\n",
        "model.add(tf.keras.layers.Dropout(0.1))\n",
        "\n",
        "\n",
        "model.add(tf.keras.layers.Conv2D(10,kernel_size=(4, 4)))\n",
        "\n",
        "model.add(tf.keras.layers.Flatten())\n",
        "\n",
        "model.add(tf.keras.layers.Activation('softmax'))"
      ],
      "metadata": {
        "id": "K_ajNBmRMbw3"
      },
      "execution_count": 46,
      "outputs": []
    },
    {
      "cell_type": "code",
      "source": [
        "model.summary()"
      ],
      "metadata": {
        "id": "8i8a8STdMmxK",
        "outputId": "dddd7bb3-6c4f-48c4-c5e8-db0750c7e2fa",
        "colab": {
          "base_uri": "https://localhost:8080/"
        }
      },
      "execution_count": 47,
      "outputs": [
        {
          "output_type": "stream",
          "name": "stdout",
          "text": [
            "Model: \"sequential_14\"\n",
            "_________________________________________________________________\n",
            " Layer (type)                Output Shape              Param #   \n",
            "=================================================================\n",
            " conv2d_49 (Conv2D)          (None, 26, 26, 10)        100       \n",
            "                                                                 \n",
            " batch_normalization_33 (Bat  (None, 26, 26, 10)       40        \n",
            " chNormalization)                                                \n",
            "                                                                 \n",
            " dropout_33 (Dropout)        (None, 26, 26, 10)        0         \n",
            "                                                                 \n",
            " conv2d_50 (Conv2D)          (None, 24, 24, 16)        1456      \n",
            "                                                                 \n",
            " batch_normalization_34 (Bat  (None, 24, 24, 16)       64        \n",
            " chNormalization)                                                \n",
            "                                                                 \n",
            " dropout_34 (Dropout)        (None, 24, 24, 16)        0         \n",
            "                                                                 \n",
            " conv2d_51 (Conv2D)          (None, 24, 24, 10)        170       \n",
            "                                                                 \n",
            " max_pooling2d_10 (MaxPoolin  (None, 12, 12, 10)       0         \n",
            " g2D)                                                            \n",
            "                                                                 \n",
            " conv2d_52 (Conv2D)          (None, 10, 10, 16)        1456      \n",
            "                                                                 \n",
            " batch_normalization_35 (Bat  (None, 10, 10, 16)       64        \n",
            " chNormalization)                                                \n",
            "                                                                 \n",
            " dropout_35 (Dropout)        (None, 10, 10, 16)        0         \n",
            "                                                                 \n",
            " conv2d_53 (Conv2D)          (None, 8, 8, 16)          2320      \n",
            "                                                                 \n",
            " batch_normalization_36 (Bat  (None, 8, 8, 16)         64        \n",
            " chNormalization)                                                \n",
            "                                                                 \n",
            " dropout_36 (Dropout)        (None, 8, 8, 16)          0         \n",
            "                                                                 \n",
            " conv2d_54 (Conv2D)          (None, 6, 6, 16)          2320      \n",
            "                                                                 \n",
            " batch_normalization_37 (Bat  (None, 6, 6, 16)         64        \n",
            " chNormalization)                                                \n",
            "                                                                 \n",
            " dropout_37 (Dropout)        (None, 6, 6, 16)          0         \n",
            "                                                                 \n",
            " conv2d_55 (Conv2D)          (None, 4, 4, 16)          2320      \n",
            "                                                                 \n",
            " batch_normalization_38 (Bat  (None, 4, 4, 16)         64        \n",
            " chNormalization)                                                \n",
            "                                                                 \n",
            " dropout_38 (Dropout)        (None, 4, 4, 16)          0         \n",
            "                                                                 \n",
            " conv2d_56 (Conv2D)          (None, 1, 1, 10)          2570      \n",
            "                                                                 \n",
            " flatten_2 (Flatten)         (None, 10)                0         \n",
            "                                                                 \n",
            " activation_2 (Activation)   (None, 10)                0         \n",
            "                                                                 \n",
            "=================================================================\n",
            "Total params: 13,072\n",
            "Trainable params: 12,892\n",
            "Non-trainable params: 180\n",
            "_________________________________________________________________\n"
          ]
        }
      ]
    },
    {
      "cell_type": "markdown",
      "source": [
        "# Optimizer and Learning Rate Scheduler"
      ],
      "metadata": {
        "id": "kH033xCPQ_k1"
      }
    },
    {
      "cell_type": "code",
      "source": [
        "y_test.shape"
      ],
      "metadata": {
        "id": "ShI-BKQ_T9mk",
        "outputId": "e228ed1e-32f8-45db-96d4-902f430f8c31",
        "colab": {
          "base_uri": "https://localhost:8080/"
        }
      },
      "execution_count": 48,
      "outputs": [
        {
          "output_type": "execute_result",
          "data": {
            "text/plain": [
              "(10000, 10)"
            ]
          },
          "metadata": {},
          "execution_count": 48
        }
      ]
    },
    {
      "cell_type": "code",
      "source": [
        "X_test.shape"
      ],
      "metadata": {
        "id": "-PIV5rZyUCUT",
        "outputId": "0d7bd749-fb95-4544-df4f-818926acdfaf",
        "colab": {
          "base_uri": "https://localhost:8080/"
        }
      },
      "execution_count": 49,
      "outputs": [
        {
          "output_type": "execute_result",
          "data": {
            "text/plain": [
              "(10000, 28, 28, 1)"
            ]
          },
          "metadata": {},
          "execution_count": 49
        }
      ]
    },
    {
      "cell_type": "code",
      "source": [
        "# Learning Rate Scheduler\n",
        "\n",
        "# Learning Rate = Learning Rate * 1/(1 + decay * epoch)\n",
        "def scheduler(epoch,lr):\n",
        "  return round(0.003 * 1 / (1+0.319 * epoch),10)\n",
        "\n",
        "def exponential_decay(lr,s):\n",
        "  def exponential_decay_fn(epoch):\n",
        "    return lr * 0.1 **(epoch /s)\n",
        "  return exponential_decay_fn\n",
        "\n",
        "model.compile(loss = tf.keras.metrics.categorical_crossentropy,optimizer=tf.keras.optimizers.Adam(lr=0.003),metrics = ['accuracy'])\n",
        "model.fit(X_train,y_train, batch_size = 128,epochs = 20,verbose =1 , validation_data =(X_test,y_test),callbacks = [tf.keras.callbacks.LearningRateScheduler(scheduler,verbose=1)])\n"
      ],
      "metadata": {
        "id": "lNA8L8K_Q_KH",
        "outputId": "02b7a49f-8ac1-4aa3-d764-4210aa66a443",
        "colab": {
          "base_uri": "https://localhost:8080/"
        }
      },
      "execution_count": 53,
      "outputs": [
        {
          "output_type": "stream",
          "name": "stderr",
          "text": [
            "/usr/local/lib/python3.7/dist-packages/keras/optimizer_v2/adam.py:105: UserWarning: The `lr` argument is deprecated, use `learning_rate` instead.\n",
            "  super(Adam, self).__init__(name, **kwargs)\n"
          ]
        },
        {
          "output_type": "stream",
          "name": "stdout",
          "text": [
            "\n",
            "Epoch 1: LearningRateScheduler setting learning rate to 0.003.\n",
            "Epoch 1/20\n",
            "469/469 [==============================] - 6s 11ms/step - loss: 0.0223 - accuracy: 0.9928 - val_loss: 0.0240 - val_accuracy: 0.9914 - lr: 0.0030\n",
            "\n",
            "Epoch 2: LearningRateScheduler setting learning rate to 0.0022744503.\n",
            "Epoch 2/20\n",
            "469/469 [==============================] - 4s 8ms/step - loss: 0.0197 - accuracy: 0.9937 - val_loss: 0.0207 - val_accuracy: 0.9934 - lr: 0.0023\n",
            "\n",
            "Epoch 3: LearningRateScheduler setting learning rate to 0.0018315018.\n",
            "Epoch 3/20\n",
            "469/469 [==============================] - 4s 8ms/step - loss: 0.0173 - accuracy: 0.9942 - val_loss: 0.0191 - val_accuracy: 0.9934 - lr: 0.0018\n",
            "\n",
            "Epoch 4: LearningRateScheduler setting learning rate to 0.0015329586.\n",
            "Epoch 4/20\n",
            "469/469 [==============================] - 4s 8ms/step - loss: 0.0160 - accuracy: 0.9947 - val_loss: 0.0184 - val_accuracy: 0.9941 - lr: 0.0015\n",
            "\n",
            "Epoch 5: LearningRateScheduler setting learning rate to 0.0013181019.\n",
            "Epoch 5/20\n",
            "469/469 [==============================] - 4s 8ms/step - loss: 0.0138 - accuracy: 0.9954 - val_loss: 0.0184 - val_accuracy: 0.9936 - lr: 0.0013\n",
            "\n",
            "Epoch 6: LearningRateScheduler setting learning rate to 0.0011560694.\n",
            "Epoch 6/20\n",
            "469/469 [==============================] - 4s 8ms/step - loss: 0.0135 - accuracy: 0.9954 - val_loss: 0.0209 - val_accuracy: 0.9932 - lr: 0.0012\n",
            "\n",
            "Epoch 7: LearningRateScheduler setting learning rate to 0.0010295127.\n",
            "Epoch 7/20\n",
            "469/469 [==============================] - 4s 8ms/step - loss: 0.0129 - accuracy: 0.9960 - val_loss: 0.0175 - val_accuracy: 0.9943 - lr: 0.0010\n",
            "\n",
            "Epoch 8: LearningRateScheduler setting learning rate to 0.0009279307.\n",
            "Epoch 8/20\n",
            "469/469 [==============================] - 4s 8ms/step - loss: 0.0120 - accuracy: 0.9962 - val_loss: 0.0213 - val_accuracy: 0.9935 - lr: 9.2793e-04\n",
            "\n",
            "Epoch 9: LearningRateScheduler setting learning rate to 0.0008445946.\n",
            "Epoch 9/20\n",
            "469/469 [==============================] - 4s 8ms/step - loss: 0.0111 - accuracy: 0.9965 - val_loss: 0.0212 - val_accuracy: 0.9937 - lr: 8.4459e-04\n",
            "\n",
            "Epoch 10: LearningRateScheduler setting learning rate to 0.0007749935.\n",
            "Epoch 10/20\n",
            "469/469 [==============================] - 4s 8ms/step - loss: 0.0107 - accuracy: 0.9964 - val_loss: 0.0180 - val_accuracy: 0.9937 - lr: 7.7499e-04\n",
            "\n",
            "Epoch 11: LearningRateScheduler setting learning rate to 0.0007159905.\n",
            "Epoch 11/20\n",
            "469/469 [==============================] - 4s 8ms/step - loss: 0.0106 - accuracy: 0.9963 - val_loss: 0.0180 - val_accuracy: 0.9941 - lr: 7.1599e-04\n",
            "\n",
            "Epoch 12: LearningRateScheduler setting learning rate to 0.000665336.\n",
            "Epoch 12/20\n",
            "469/469 [==============================] - 4s 8ms/step - loss: 0.0102 - accuracy: 0.9966 - val_loss: 0.0187 - val_accuracy: 0.9946 - lr: 6.6534e-04\n",
            "\n",
            "Epoch 13: LearningRateScheduler setting learning rate to 0.0006213753.\n",
            "Epoch 13/20\n",
            "469/469 [==============================] - 4s 8ms/step - loss: 0.0103 - accuracy: 0.9966 - val_loss: 0.0175 - val_accuracy: 0.9950 - lr: 6.2138e-04\n",
            "\n",
            "Epoch 14: LearningRateScheduler setting learning rate to 0.0005828638.\n",
            "Epoch 14/20\n",
            "469/469 [==============================] - 4s 8ms/step - loss: 0.0092 - accuracy: 0.9969 - val_loss: 0.0165 - val_accuracy: 0.9945 - lr: 5.8286e-04\n",
            "\n",
            "Epoch 15: LearningRateScheduler setting learning rate to 0.0005488474.\n",
            "Epoch 15/20\n",
            "469/469 [==============================] - 4s 8ms/step - loss: 0.0097 - accuracy: 0.9966 - val_loss: 0.0168 - val_accuracy: 0.9947 - lr: 5.4885e-04\n",
            "\n",
            "Epoch 16: LearningRateScheduler setting learning rate to 0.0005185825.\n",
            "Epoch 16/20\n",
            "469/469 [==============================] - 4s 8ms/step - loss: 0.0095 - accuracy: 0.9967 - val_loss: 0.0178 - val_accuracy: 0.9943 - lr: 5.1858e-04\n",
            "\n",
            "Epoch 17: LearningRateScheduler setting learning rate to 0.000491481.\n",
            "Epoch 17/20\n",
            "469/469 [==============================] - 4s 8ms/step - loss: 0.0085 - accuracy: 0.9972 - val_loss: 0.0191 - val_accuracy: 0.9937 - lr: 4.9148e-04\n",
            "\n",
            "Epoch 18: LearningRateScheduler setting learning rate to 0.0004670715.\n",
            "Epoch 18/20\n",
            "469/469 [==============================] - 4s 8ms/step - loss: 0.0091 - accuracy: 0.9968 - val_loss: 0.0208 - val_accuracy: 0.9933 - lr: 4.6707e-04\n",
            "\n",
            "Epoch 19: LearningRateScheduler setting learning rate to 0.0004449718.\n",
            "Epoch 19/20\n",
            "469/469 [==============================] - 4s 8ms/step - loss: 0.0091 - accuracy: 0.9971 - val_loss: 0.0186 - val_accuracy: 0.9940 - lr: 4.4497e-04\n",
            "\n",
            "Epoch 20: LearningRateScheduler setting learning rate to 0.000424869.\n",
            "Epoch 20/20\n",
            "469/469 [==============================] - 4s 9ms/step - loss: 0.0082 - accuracy: 0.9972 - val_loss: 0.0186 - val_accuracy: 0.9944 - lr: 4.2487e-04\n"
          ]
        },
        {
          "output_type": "execute_result",
          "data": {
            "text/plain": [
              "<keras.callbacks.History at 0x7ff2de299c90>"
            ]
          },
          "metadata": {},
          "execution_count": 53
        }
      ]
    },
    {
      "cell_type": "code",
      "source": [
        "score = model.evaluate(X_test,y_test,verbose=0)"
      ],
      "metadata": {
        "id": "Xy7BDxHaQ7xy"
      },
      "execution_count": 54,
      "outputs": []
    },
    {
      "cell_type": "code",
      "source": [
        "score"
      ],
      "metadata": {
        "id": "FYx7_zCfdCk3",
        "outputId": "ccde0d17-d47c-4a25-f900-a67611c37e02",
        "colab": {
          "base_uri": "https://localhost:8080/"
        }
      },
      "execution_count": 55,
      "outputs": [
        {
          "output_type": "execute_result",
          "data": {
            "text/plain": [
              "[0.018569910898804665, 0.9944000244140625]"
            ]
          },
          "metadata": {},
          "execution_count": 55
        }
      ]
    },
    {
      "cell_type": "markdown",
      "source": [
        "# Exponential Scheduling"
      ],
      "metadata": {
        "id": "maFi0Olnf-Yh"
      }
    },
    {
      "cell_type": "code",
      "source": [
        "exponential_decay_fn = exponential_decay(lr = 0.01,s=20)\n",
        "model.fit(X_train,y_train, batch_size = 128,epochs = 20,verbose =1 , validation_data =(X_test,y_test),callbacks = [tf.keras.callbacks.LearningRateScheduler(exponential_decay_fn,verbose=1)])"
      ],
      "metadata": {
        "id": "6DOE4CB2dDkF",
        "outputId": "186586b2-8335-49eb-f740-3181f71abad7",
        "colab": {
          "base_uri": "https://localhost:8080/"
        }
      },
      "execution_count": 57,
      "outputs": [
        {
          "output_type": "stream",
          "name": "stdout",
          "text": [
            "\n",
            "Epoch 1: LearningRateScheduler setting learning rate to 0.01.\n",
            "Epoch 1/20\n",
            "469/469 [==============================] - 4s 9ms/step - loss: 0.0581 - accuracy: 0.9826 - val_loss: 0.0401 - val_accuracy: 0.9884 - lr: 0.0100\n",
            "\n",
            "Epoch 2: LearningRateScheduler setting learning rate to 0.008912509381337455.\n",
            "Epoch 2/20\n",
            "469/469 [==============================] - 4s 8ms/step - loss: 0.0326 - accuracy: 0.9898 - val_loss: 0.0347 - val_accuracy: 0.9895 - lr: 0.0089\n",
            "\n",
            "Epoch 3: LearningRateScheduler setting learning rate to 0.007943282347242816.\n",
            "Epoch 3/20\n",
            "469/469 [==============================] - 4s 8ms/step - loss: 0.0285 - accuracy: 0.9911 - val_loss: 0.0354 - val_accuracy: 0.9898 - lr: 0.0079\n",
            "\n",
            "Epoch 4: LearningRateScheduler setting learning rate to 0.0070794578438413795.\n",
            "Epoch 4/20\n",
            "469/469 [==============================] - 4s 8ms/step - loss: 0.0258 - accuracy: 0.9917 - val_loss: 0.0210 - val_accuracy: 0.9936 - lr: 0.0071\n",
            "\n",
            "Epoch 5: LearningRateScheduler setting learning rate to 0.006309573444801933.\n",
            "Epoch 5/20\n",
            "469/469 [==============================] - 4s 9ms/step - loss: 0.0224 - accuracy: 0.9929 - val_loss: 0.0312 - val_accuracy: 0.9904 - lr: 0.0063\n",
            "\n",
            "Epoch 6: LearningRateScheduler setting learning rate to 0.005623413251903491.\n",
            "Epoch 6/20\n",
            "469/469 [==============================] - 4s 8ms/step - loss: 0.0215 - accuracy: 0.9931 - val_loss: 0.0241 - val_accuracy: 0.9921 - lr: 0.0056\n",
            "\n",
            "Epoch 7: LearningRateScheduler setting learning rate to 0.005011872336272724.\n",
            "Epoch 7/20\n",
            "469/469 [==============================] - 4s 8ms/step - loss: 0.0192 - accuracy: 0.9937 - val_loss: 0.0214 - val_accuracy: 0.9929 - lr: 0.0050\n",
            "\n",
            "Epoch 8: LearningRateScheduler setting learning rate to 0.004466835921509631.\n",
            "Epoch 8/20\n",
            "469/469 [==============================] - 4s 8ms/step - loss: 0.0176 - accuracy: 0.9945 - val_loss: 0.0303 - val_accuracy: 0.9916 - lr: 0.0045\n",
            "\n",
            "Epoch 9: LearningRateScheduler setting learning rate to 0.0039810717055349725.\n",
            "Epoch 9/20\n",
            "469/469 [==============================] - 4s 8ms/step - loss: 0.0166 - accuracy: 0.9944 - val_loss: 0.0212 - val_accuracy: 0.9932 - lr: 0.0040\n",
            "\n",
            "Epoch 10: LearningRateScheduler setting learning rate to 0.003548133892335755.\n",
            "Epoch 10/20\n",
            "469/469 [==============================] - 4s 8ms/step - loss: 0.0152 - accuracy: 0.9948 - val_loss: 0.0215 - val_accuracy: 0.9933 - lr: 0.0035\n",
            "\n",
            "Epoch 11: LearningRateScheduler setting learning rate to 0.0031622776601683794.\n",
            "Epoch 11/20\n",
            "469/469 [==============================] - 4s 8ms/step - loss: 0.0137 - accuracy: 0.9954 - val_loss: 0.0226 - val_accuracy: 0.9927 - lr: 0.0032\n",
            "\n",
            "Epoch 12: LearningRateScheduler setting learning rate to 0.002818382931264454.\n",
            "Epoch 12/20\n",
            "469/469 [==============================] - 4s 8ms/step - loss: 0.0147 - accuracy: 0.9950 - val_loss: 0.0213 - val_accuracy: 0.9930 - lr: 0.0028\n",
            "\n",
            "Epoch 13: LearningRateScheduler setting learning rate to 0.0025118864315095803.\n",
            "Epoch 13/20\n",
            "469/469 [==============================] - 4s 8ms/step - loss: 0.0122 - accuracy: 0.9960 - val_loss: 0.0211 - val_accuracy: 0.9933 - lr: 0.0025\n",
            "\n",
            "Epoch 14: LearningRateScheduler setting learning rate to 0.0022387211385683395.\n",
            "Epoch 14/20\n",
            "469/469 [==============================] - 4s 8ms/step - loss: 0.0112 - accuracy: 0.9962 - val_loss: 0.0219 - val_accuracy: 0.9929 - lr: 0.0022\n",
            "\n",
            "Epoch 15: LearningRateScheduler setting learning rate to 0.0019952623149688802.\n",
            "Epoch 15/20\n",
            "469/469 [==============================] - 4s 8ms/step - loss: 0.0119 - accuracy: 0.9961 - val_loss: 0.0206 - val_accuracy: 0.9936 - lr: 0.0020\n",
            "\n",
            "Epoch 16: LearningRateScheduler setting learning rate to 0.001778279410038923.\n",
            "Epoch 16/20\n",
            "469/469 [==============================] - 4s 8ms/step - loss: 0.0104 - accuracy: 0.9966 - val_loss: 0.0208 - val_accuracy: 0.9938 - lr: 0.0018\n",
            "\n",
            "Epoch 17: LearningRateScheduler setting learning rate to 0.0015848931924611134.\n",
            "Epoch 17/20\n",
            "469/469 [==============================] - 4s 8ms/step - loss: 0.0092 - accuracy: 0.9967 - val_loss: 0.0204 - val_accuracy: 0.9945 - lr: 0.0016\n",
            "\n",
            "Epoch 18: LearningRateScheduler setting learning rate to 0.0014125375446227546.\n",
            "Epoch 18/20\n",
            "469/469 [==============================] - 4s 8ms/step - loss: 0.0096 - accuracy: 0.9966 - val_loss: 0.0198 - val_accuracy: 0.9944 - lr: 0.0014\n",
            "\n",
            "Epoch 19: LearningRateScheduler setting learning rate to 0.0012589254117941673.\n",
            "Epoch 19/20\n",
            "469/469 [==============================] - 4s 8ms/step - loss: 0.0091 - accuracy: 0.9972 - val_loss: 0.0202 - val_accuracy: 0.9935 - lr: 0.0013\n",
            "\n",
            "Epoch 20: LearningRateScheduler setting learning rate to 0.0011220184543019637.\n",
            "Epoch 20/20\n",
            "469/469 [==============================] - 4s 8ms/step - loss: 0.0087 - accuracy: 0.9970 - val_loss: 0.0187 - val_accuracy: 0.9944 - lr: 0.0011\n"
          ]
        },
        {
          "output_type": "execute_result",
          "data": {
            "text/plain": [
              "<keras.callbacks.History at 0x7ff2de6b3f90>"
            ]
          },
          "metadata": {},
          "execution_count": 57
        }
      ]
    },
    {
      "cell_type": "code",
      "source": [
        ""
      ],
      "metadata": {
        "id": "qKGOgualfjww"
      },
      "execution_count": null,
      "outputs": []
    }
  ]
}