{
  "nbformat": 4,
  "nbformat_minor": 0,
  "metadata": {
    "colab": {
      "name": "ANN with Keras_FMNIST.ipynb",
      "provenance": []
    },
    "kernelspec": {
      "name": "python3",
      "display_name": "Python 3"
    },
    "language_info": {
      "name": "python"
    }
  },
  "cells": [
    {
      "cell_type": "markdown",
      "source": [
        "\n",
        "\n",
        "*   Keras is a simple High level API for building, training,evaluating and runnning neural networks.\n",
        "\n",
        "*   The  perceptron is the simplest ANN architectures.It is based on a slightly different artificial neuron called TLU(Threshold Logic Unit) or LTU(Linear Threshold Unit),the inputs and outputs are numbers and each input connection is associated with a weight.The TLU computes a weighted sum of the inputs , then applies a step function to that sum and outputs the result.\n",
        "\n",
        "*   A single TLU can be used for simple linear Binary Classification.It computes a linear combination of the inputs and the results exceeds a threshold,it output the positive class or else outputs the negative class.\n",
        "*   A Perceptron is simply composed of single layer of TLUs with each TLU connected tp all the inputs.When all the neurons in a layer are connected to every neuron in the previous layer, it is called **fully connected layer or dense layer**.\n",
        "\n",
        "\n",
        "*   Perceptron are trained taking account of the error made by the network . It reinforces connections that help reduce the error.\n",
        "\n",
        "*   Pereception Learning Rule - \n",
        "\\w(i,j) = w(i,j) + n*(y(j) - yhat(j))x(i)\n",
        "\n",
        "  *   w(i,j) is the connection weight between ith input neuron and jth output neuron.\n",
        "  *   x(i) is the ith input value of the current training instance.\n",
        "  *   yhat(i) is the output of the jth output neuron for the current training instance.\n",
        "  *   y(j) is the target output of the jth output neuron for the current training instance.\n",
        "  *   n is the learning rate.\n",
        "\n",
        "\n",
        "\n",
        "*   The decision boundary of each output neuron is linear , so Perceptrons are incapable  of learning complex patterns.\n",
        "*   If the training instances are linearly separable , then this algorithm would converge to a solution.This is called **Perceptron Convergence Theorem**.\n",
        "\n",
        "\n",
        "\n",
        "\n",
        "\n",
        "\n",
        "\n",
        "\n",
        "\n",
        "\n",
        "\n",
        "\n",
        "\n",
        "\n",
        "\n",
        "\n"
      ],
      "metadata": {
        "id": "CNznmyIjIJ7N"
      }
    },
    {
      "cell_type": "markdown",
      "source": [
        "# Implementing a TLU Network for Iris Dataset"
      ],
      "metadata": {
        "id": "OYtBns00NoZy"
      }
    },
    {
      "cell_type": "code",
      "execution_count": 20,
      "metadata": {
        "id": "deKddg-K-bVR"
      },
      "outputs": [],
      "source": [
        "from sklearn.datasets import load_iris\n",
        "from sklearn.linear_model import Perceptron"
      ]
    },
    {
      "cell_type": "code",
      "source": [
        "iris = load_iris()\n",
        "X = iris.data[:,(2,3)] # Petal Length, Petal Width\n",
        "\n",
        "# astype() method is used to cast a pandas object to a specified dtype. \n",
        "#astype() function also provides the capability to convert any suitable existing column to categorical type\n",
        "\n",
        "# Below code transforms the target column into two categories , target which is 0 is set to 1 category and rest of the categories are combined into one.\n",
        "y = (iris.target == 0).astype(np.int)"
      ],
      "metadata": {
        "colab": {
          "base_uri": "https://localhost:8080/"
        },
        "id": "MCluRXCQN465",
        "outputId": "40821727-2d7a-400d-bf4c-1c3f87582ec3"
      },
      "execution_count": 21,
      "outputs": [
        {
          "output_type": "stream",
          "name": "stderr",
          "text": [
            "/usr/local/lib/python3.7/dist-packages/ipykernel_launcher.py:8: DeprecationWarning: `np.int` is a deprecated alias for the builtin `int`. To silence this warning, use `int` by itself. Doing this will not modify any behavior and is safe. When replacing `np.int`, you may wish to use e.g. `np.int64` or `np.int32` to specify the precision. If you wish to review your current use, check the release note link for additional information.\n",
            "Deprecated in NumPy 1.20; for more details and guidance: https://numpy.org/devdocs/release/1.20.0-notes.html#deprecations\n",
            "  \n"
          ]
        }
      ]
    },
    {
      "cell_type": "code",
      "source": [
        "y"
      ],
      "metadata": {
        "colab": {
          "base_uri": "https://localhost:8080/"
        },
        "id": "1SpEmxEmOBKZ",
        "outputId": "d2b878fc-4e0e-44a8-a8db-28229657d42c"
      },
      "execution_count": 22,
      "outputs": [
        {
          "output_type": "execute_result",
          "data": {
            "text/plain": [
              "array([1, 1, 1, 1, 1, 1, 1, 1, 1, 1, 1, 1, 1, 1, 1, 1, 1, 1, 1, 1, 1, 1,\n",
              "       1, 1, 1, 1, 1, 1, 1, 1, 1, 1, 1, 1, 1, 1, 1, 1, 1, 1, 1, 1, 1, 1,\n",
              "       1, 1, 1, 1, 1, 1, 0, 0, 0, 0, 0, 0, 0, 0, 0, 0, 0, 0, 0, 0, 0, 0,\n",
              "       0, 0, 0, 0, 0, 0, 0, 0, 0, 0, 0, 0, 0, 0, 0, 0, 0, 0, 0, 0, 0, 0,\n",
              "       0, 0, 0, 0, 0, 0, 0, 0, 0, 0, 0, 0, 0, 0, 0, 0, 0, 0, 0, 0, 0, 0,\n",
              "       0, 0, 0, 0, 0, 0, 0, 0, 0, 0, 0, 0, 0, 0, 0, 0, 0, 0, 0, 0, 0, 0,\n",
              "       0, 0, 0, 0, 0, 0, 0, 0, 0, 0, 0, 0, 0, 0, 0, 0, 0, 0])"
            ]
          },
          "metadata": {},
          "execution_count": 22
        }
      ]
    },
    {
      "cell_type": "code",
      "source": [
        "iris.target"
      ],
      "metadata": {
        "colab": {
          "base_uri": "https://localhost:8080/"
        },
        "id": "gaKJolUhOsy3",
        "outputId": "7d873fe5-673d-4983-b73a-71b0253124cc"
      },
      "execution_count": 23,
      "outputs": [
        {
          "output_type": "execute_result",
          "data": {
            "text/plain": [
              "array([0, 0, 0, 0, 0, 0, 0, 0, 0, 0, 0, 0, 0, 0, 0, 0, 0, 0, 0, 0, 0, 0,\n",
              "       0, 0, 0, 0, 0, 0, 0, 0, 0, 0, 0, 0, 0, 0, 0, 0, 0, 0, 0, 0, 0, 0,\n",
              "       0, 0, 0, 0, 0, 0, 1, 1, 1, 1, 1, 1, 1, 1, 1, 1, 1, 1, 1, 1, 1, 1,\n",
              "       1, 1, 1, 1, 1, 1, 1, 1, 1, 1, 1, 1, 1, 1, 1, 1, 1, 1, 1, 1, 1, 1,\n",
              "       1, 1, 1, 1, 1, 1, 1, 1, 1, 1, 1, 1, 2, 2, 2, 2, 2, 2, 2, 2, 2, 2,\n",
              "       2, 2, 2, 2, 2, 2, 2, 2, 2, 2, 2, 2, 2, 2, 2, 2, 2, 2, 2, 2, 2, 2,\n",
              "       2, 2, 2, 2, 2, 2, 2, 2, 2, 2, 2, 2, 2, 2, 2, 2, 2, 2])"
            ]
          },
          "metadata": {},
          "execution_count": 23
        }
      ]
    },
    {
      "cell_type": "code",
      "source": [
        "#Creating a Perceptron instance\n",
        "per_clf = Perceptron()\n",
        "per_clf.fit(X,y)"
      ],
      "metadata": {
        "colab": {
          "base_uri": "https://localhost:8080/"
        },
        "id": "l9CHgnkLOxf0",
        "outputId": "71146b5e-8683-4c4a-a6b3-7dfddcbcf1bc"
      },
      "execution_count": 24,
      "outputs": [
        {
          "output_type": "execute_result",
          "data": {
            "text/plain": [
              "Perceptron()"
            ]
          },
          "metadata": {},
          "execution_count": 24
        }
      ]
    },
    {
      "cell_type": "markdown",
      "source": [
        "\n",
        "\n",
        "*   Perceptrons do not output a class probability.\n",
        "*   It make predictions based on a hard threshold.\n",
        "\n",
        "\n",
        "*   It is advisable to use Logistic Regression over Perceptrons.\n",
        "\n",
        "\n"
      ],
      "metadata": {
        "id": "iTzZwg01QK7C"
      }
    },
    {
      "cell_type": "code",
      "source": [
        "y_pred = per_clf.predict([[2,.05]])\n",
        "y_pred"
      ],
      "metadata": {
        "colab": {
          "base_uri": "https://localhost:8080/"
        },
        "id": "40fxa9KKPgx2",
        "outputId": "c8eda6c0-5100-4bbf-adaf-aca2ffb0c887"
      },
      "execution_count": 25,
      "outputs": [
        {
          "output_type": "execute_result",
          "data": {
            "text/plain": [
              "array([1])"
            ]
          },
          "metadata": {},
          "execution_count": 25
        }
      ]
    },
    {
      "cell_type": "markdown",
      "source": [
        "#  Activation Functions"
      ],
      "metadata": {
        "id": "cHNMTDkcLTuj"
      }
    },
    {
      "cell_type": "code",
      "source": [
        "def sigmoid(z):\n",
        "  return 1 / (1 + np.exp(-z))\n",
        "\n",
        "def relu(z):\n",
        "  return np.maximum(0,z)\n",
        "\n",
        "def  derivative(f,z,eps = 0.00000001):\n",
        "  return (f(z+eps) - f(z-eps))/(2*eps)"
      ],
      "metadata": {
        "id": "PTG7wZ6gLSBq"
      },
      "execution_count": 26,
      "outputs": []
    },
    {
      "cell_type": "markdown",
      "source": [
        "# Plotting Activation Functions"
      ],
      "metadata": {
        "id": "2LcSKHnPMD_q"
      }
    },
    {
      "cell_type": "code",
      "source": [
        "import numpy as np\n",
        "import pandas as pd\n",
        "import matplotlib.pyplot as plt"
      ],
      "metadata": {
        "id": "7ABqq4c3NMhJ"
      },
      "execution_count": 27,
      "outputs": []
    },
    {
      "cell_type": "code",
      "source": [
        "z = np.linspace(-5,5,200)\n",
        "\n",
        "plt.figure(figsize=(30,10))\n",
        "\n",
        "#Plotting Activation Functions\n",
        "plt.subplot(121)\n",
        "plt.plot(z,np.sign(z) , \"r--\",linewidth=3,label='Step')\n",
        "plt.plot(z,sigmoid(z) , \"g--\",linewidth=3,label='Sigmoid')\n",
        "plt.plot(z,np.tanh(z) , \"b--\",linewidth=3,label='Tanh')\n",
        "plt.plot(z,relu(z) , \"m--\",linewidth=3,label='ReLU')\n",
        "\n",
        "plt.grid(True)\n",
        "plt.legend(loc=\"center right\",fontsize=14)\n",
        "plt.title(\"Activation Functions\",fontsize=14)\n",
        "plt.axis([-5,5,-1.2,1.2])\n",
        "\n",
        "#Plotting Derivative of Activation Functions\n",
        "plt.subplot(122)\n",
        "plt.plot(z,derivative(np.sign,z),\"r-\",linewidth=3,label = \"Step\")\n",
        "plt.plot(0,0,\"ro\",markersize=5)\n",
        "plt.plot(0,0,\"rx\",markersize=10)\n",
        "plt.plot(z,derivative(sigmoid,z),\"g--\",linewidth=3,label=\"sigmoid\")\n",
        "plt.plot(z,derivative(np.tanh,z),\"b--\",linewidth=3,label=\"Tanh\")\n",
        "plt.plot(z,derivative(relu,z),\"m--\",linewidth=3,label=\"ReLU\")\n",
        "plt.grid(True)\n",
        "\n",
        "plt.title(\"Derivative of Activation Functions\",fontsize=14)\n",
        "plt.axis([-5,5,-1.2,1.2])\n"
      ],
      "metadata": {
        "colab": {
          "base_uri": "https://localhost:8080/",
          "height": 626
        },
        "id": "rPmJZIhPMCJC",
        "outputId": "053f027d-0eee-4d7c-c5f2-37dd86da7e10"
      },
      "execution_count": 28,
      "outputs": [
        {
          "output_type": "execute_result",
          "data": {
            "text/plain": [
              "(-5.0, 5.0, -1.2, 1.2)"
            ]
          },
          "metadata": {},
          "execution_count": 28
        },
        {
          "output_type": "display_data",
          "data": {
            "text/plain": [
              "<Figure size 2160x720 with 2 Axes>"
            ],
            "image/png": "[encoded data removed]"
          },
          "metadata": {
            "needs_background": "light"
          }
        }
      ]
    },
    {
      "cell_type": "code",
      "source": [
        ""
      ],
      "metadata": {
        "id": "KfgCSRDsLTDS"
      },
      "execution_count": 28,
      "outputs": []
    },
    {
      "cell_type": "markdown",
      "source": [
        "# Disadvantages of Perceptron\n",
        "\n",
        "*   Incapable of solving some trivial problems(XOR) classification problem.\n",
        "*   This limitation can be eliminated by stacking multiplt perceptrons.The resulting ANN is called MLP.\n",
        "\n"
      ],
      "metadata": {
        "id": "zPBqk_OBQjvN"
      }
    },
    {
      "cell_type": "markdown",
      "source": [
        "# MLP and BackPropagation\n",
        "\n",
        "\n",
        "\n",
        "*   MLP is composed of one (passthrough) input layer,one or more layers of TLUs,called hidden layers and one final layer of TLUs called the output layer.\n",
        "*   The layer close to the input layer are usually called the lower layers.\n",
        "*   The ones close to the outputs are called the upper layers.\n",
        "*   Every layer except the output layer includes a bias neuron and is fully connected to the next layer.\n",
        "\n",
        "\n",
        "\n",
        "\n",
        "*   ANNN containing deep stack of hidden Layers is called a deep neural networks.\n",
        "\n",
        "\n",
        "*   **BackPropagation**\n",
        "  *   for each trainig instance the BP algorithm firt makes a prediction9forward pass)\n",
        "  *   Measures the error.\n",
        "  *   Goes through each layer in reverse to measure the error contribution from each connection and finally slightly tweaks the connection weights to reduce the error.\n",
        "\n",
        "\n",
        "\n",
        "*   Slight change in the MLP Architecture, replaces the step function with the logistic function. It was essential because the step function contains only flat segments, so there is no gradient to work with.BackPropagation algorithms works well wiith many other activation functions.\n",
        "\n",
        "## Regression MLPs\n",
        "\n",
        "\n",
        "\n",
        "*   Used for Regression tasks.\n",
        "*   When buildng an MPL for regression , No need to use activation function for the ouput neurons.They are free to output any range of values.\n",
        "\n",
        "\n",
        "*   If guarantee that the output will always be positive, then can use the RelU activation function or the softplus function in the output layer.\n",
        "*   The loss function to use during training is typically MSE.If the data has lots of outliers in the training set, prefer using mean absolute error.\n",
        "\n",
        "## Classification MLPs\n",
        "\n",
        "\n",
        "\n",
        "*   Used for classification tasks.\n",
        "\n",
        "\n",
        "\n",
        "\n",
        "\n",
        "\n",
        "\n",
        "\n",
        "\n",
        "\n",
        "\n",
        "\n",
        "\n",
        "\n",
        "\n"
      ],
      "metadata": {
        "id": "YT1JRMqcRCiD"
      }
    },
    {
      "cell_type": "markdown",
      "source": [
        "# Implementing MLPs with Keras"
      ],
      "metadata": {
        "id": "vpYtW4ucYMhD"
      }
    },
    {
      "cell_type": "code",
      "source": [
        "import tensorflow as tf\n",
        "from tensorflow import keras\n",
        "import matplotlib.pyplot as plt"
      ],
      "metadata": {
        "id": "WUzdD9BfPhhm"
      },
      "execution_count": 29,
      "outputs": []
    },
    {
      "cell_type": "code",
      "source": [
        "#Version of the Tensorflow\n",
        "tf.__version__"
      ],
      "metadata": {
        "colab": {
          "base_uri": "https://localhost:8080/",
          "height": 35
        },
        "id": "fzdXX8oWYl_R",
        "outputId": "afc24d18-d14d-4921-eb64-475416973dd0"
      },
      "execution_count": 30,
      "outputs": [
        {
          "output_type": "execute_result",
          "data": {
            "text/plain": [
              "'2.8.2'"
            ],
            "application/vnd.google.colaboratory.intrinsic+json": {
              "type": "string"
            }
          },
          "metadata": {},
          "execution_count": 30
        }
      ]
    },
    {
      "cell_type": "markdown",
      "source": [
        "# Building an Image Classifier using the Sequential API"
      ],
      "metadata": {
        "id": "v6Db3xpbYxZa"
      }
    },
    {
      "cell_type": "code",
      "source": [
        "fashion_data = keras.datasets.fashion_mnist\n",
        "(X_train_full, y_train_full),(X_test,y_test) = fashion_data.load_data()"
      ],
      "metadata": {
        "colab": {
          "base_uri": "https://localhost:8080/"
        },
        "id": "M7-C0GvdYs8c",
        "outputId": "1b585f67-8ee7-42b9-a5cb-db4865cb9fdb"
      },
      "execution_count": 31,
      "outputs": [
        {
          "output_type": "stream",
          "name": "stdout",
          "text": [
            "Downloading data from https://storage.googleapis.com/tensorflow/tf-keras-datasets/train-labels-idx1-ubyte.gz\n",
            "32768/29515 [=================================] - 0s 0us/step\n",
            "40960/29515 [=========================================] - 0s 0us/step\n",
            "Downloading data from https://storage.googleapis.com/tensorflow/tf-keras-datasets/train-images-idx3-ubyte.gz\n",
            "26427392/26421880 [==============================] - 0s 0us/step\n",
            "26435584/26421880 [==============================] - 0s 0us/step\n",
            "Downloading data from https://storage.googleapis.com/tensorflow/tf-keras-datasets/t10k-labels-idx1-ubyte.gz\n",
            "16384/5148 [===============================================================================================] - 0s 0us/step\n",
            "Downloading data from https://storage.googleapis.com/tensorflow/tf-keras-datasets/t10k-images-idx3-ubyte.gz\n",
            "4423680/4422102 [==============================] - 0s 0us/step\n",
            "4431872/4422102 [==============================] - 0s 0us/step\n"
          ]
        }
      ]
    },
    {
      "cell_type": "code",
      "source": [
        "#Shape of the Data\n",
        "X_train_full.shape"
      ],
      "metadata": {
        "colab": {
          "base_uri": "https://localhost:8080/"
        },
        "id": "-OjjWM49ZEgF",
        "outputId": "49c4e4cb-55b6-45c1-cb43-fb607c67647d"
      },
      "execution_count": 32,
      "outputs": [
        {
          "output_type": "execute_result",
          "data": {
            "text/plain": [
              "(60000, 28, 28)"
            ]
          },
          "metadata": {},
          "execution_count": 32
        }
      ]
    },
    {
      "cell_type": "code",
      "source": [
        "X_train_full.dtype"
      ],
      "metadata": {
        "colab": {
          "base_uri": "https://localhost:8080/"
        },
        "id": "c24zQp4HfiYf",
        "outputId": "75ac9dee-e625-40ab-ed0d-a607eeecba39"
      },
      "execution_count": 33,
      "outputs": [
        {
          "output_type": "execute_result",
          "data": {
            "text/plain": [
              "dtype('uint8')"
            ]
          },
          "metadata": {},
          "execution_count": 33
        }
      ]
    },
    {
      "cell_type": "code",
      "source": [
        "X_test.shape"
      ],
      "metadata": {
        "colab": {
          "base_uri": "https://localhost:8080/"
        },
        "id": "jV4rhKde2qaP",
        "outputId": "defc4cbb-24e0-4dcf-d734-dc93842e924e"
      },
      "execution_count": 34,
      "outputs": [
        {
          "output_type": "execute_result",
          "data": {
            "text/plain": [
              "(10000, 28, 28)"
            ]
          },
          "metadata": {},
          "execution_count": 34
        }
      ]
    },
    {
      "cell_type": "code",
      "source": [
        "#Scaling the DataSet\n",
        "X_valid , X_train = X_train_full[:10000]/255.0 , X_train_full[10000:] / 255.0\n",
        "y_valid , y_train = y_train_full[:10000] , y_train_full[10000:]"
      ],
      "metadata": {
        "id": "kgLzGzTNfkqL"
      },
      "execution_count": 35,
      "outputs": []
    },
    {
      "cell_type": "code",
      "source": [
        "#Class names\n",
        "class_names  = ['T-shirt/top','Trouser','Pullover','Dress','Coat','Sandal','Shirt','Sneaker','Bag','Ankle boot']"
      ],
      "metadata": {
        "id": "5Pp5S8wMgCBX"
      },
      "execution_count": 36,
      "outputs": []
    },
    {
      "cell_type": "code",
      "source": [
        "class_names[y_train[0]]"
      ],
      "metadata": {
        "colab": {
          "base_uri": "https://localhost:8080/",
          "height": 35
        },
        "id": "CTvKYGSmgWIo",
        "outputId": "bab25515-24f7-430c-ae23-19d5dd6829bf"
      },
      "execution_count": 37,
      "outputs": [
        {
          "output_type": "execute_result",
          "data": {
            "text/plain": [
              "'Bag'"
            ],
            "application/vnd.google.colaboratory.intrinsic+json": {
              "type": "string"
            }
          },
          "metadata": {},
          "execution_count": 37
        }
      ]
    },
    {
      "cell_type": "code",
      "source": [
        "y_train[0]"
      ],
      "metadata": {
        "colab": {
          "base_uri": "https://localhost:8080/"
        },
        "id": "r7JC3GTjgZDc",
        "outputId": "c4d42fef-3b8f-4486-aeb0-bbf37d85ed01"
      },
      "execution_count": 38,
      "outputs": [
        {
          "output_type": "execute_result",
          "data": {
            "text/plain": [
              "8"
            ]
          },
          "metadata": {},
          "execution_count": 38
        }
      ]
    },
    {
      "cell_type": "markdown",
      "source": [
        "# Creating the  Model Using the Sequential API"
      ],
      "metadata": {
        "id": "R2RpJHpggfFS"
      }
    },
    {
      "cell_type": "code",
      "source": [
        "model = keras.models.Sequential([\n",
        "                                 keras.layers.Flatten(input_shape=[28,28]),\n",
        "                                 keras.layers.Dense(300,activation=\"relu\"),\n",
        "                                 keras.layers.Dense(100, activation = 'relu'),\n",
        "                                 keras.layers.Dense(10,activation='softmax')\n",
        "])"
      ],
      "metadata": {
        "id": "IfAGThqdgaKM"
      },
      "execution_count": 39,
      "outputs": []
    },
    {
      "cell_type": "code",
      "source": [
        "model.summary()"
      ],
      "metadata": {
        "colab": {
          "base_uri": "https://localhost:8080/"
        },
        "id": "4CP9J1HlscA1",
        "outputId": "14c5e289-cf2f-4e9f-d021-25e035871c49"
      },
      "execution_count": 40,
      "outputs": [
        {
          "output_type": "stream",
          "name": "stdout",
          "text": [
            "Model: \"sequential\"\n",
            "_________________________________________________________________\n",
            " Layer (type)                Output Shape              Param #   \n",
            "=================================================================\n",
            " flatten (Flatten)           (None, 784)               0         \n",
            "                                                                 \n",
            " dense (Dense)               (None, 300)               235500    \n",
            "                                                                 \n",
            " dense_1 (Dense)             (None, 100)               30100     \n",
            "                                                                 \n",
            " dense_2 (Dense)             (None, 10)                1010      \n",
            "                                                                 \n",
            "=================================================================\n",
            "Total params: 266,610\n",
            "Trainable params: 266,610\n",
            "Non-trainable params: 0\n",
            "_________________________________________________________________\n"
          ]
        }
      ]
    },
    {
      "cell_type": "code",
      "source": [
        "#Checking the number of parameters manually for FC layers.\n",
        "# no.of neurons * no. of previous layer neurons + no of bias(number of neurons in the layer) \n",
        "784*300 + 300"
      ],
      "metadata": {
        "colab": {
          "base_uri": "https://localhost:8080/"
        },
        "id": "Ptfv9_W7sd_8",
        "outputId": "c2583c00-a90f-435e-9e7a-776cf308c889"
      },
      "execution_count": 41,
      "outputs": [
        {
          "output_type": "execute_result",
          "data": {
            "text/plain": [
              "235500"
            ]
          },
          "metadata": {},
          "execution_count": 41
        }
      ]
    },
    {
      "cell_type": "code",
      "source": [
        "300*100 + 100"
      ],
      "metadata": {
        "colab": {
          "base_uri": "https://localhost:8080/"
        },
        "id": "njSV8555sh8o",
        "outputId": "2bf5299c-749f-4066-83c3-ccb69bc6c2ae"
      },
      "execution_count": 42,
      "outputs": [
        {
          "output_type": "execute_result",
          "data": {
            "text/plain": [
              "30100"
            ]
          },
          "metadata": {},
          "execution_count": 42
        }
      ]
    },
    {
      "cell_type": "code",
      "source": [
        "100*10 + 10"
      ],
      "metadata": {
        "colab": {
          "base_uri": "https://localhost:8080/"
        },
        "id": "HkVK2887spsv",
        "outputId": "5d3eecb7-b17a-4869-9029-3b53e19d30aa"
      },
      "execution_count": 43,
      "outputs": [
        {
          "output_type": "execute_result",
          "data": {
            "text/plain": [
              "1010"
            ]
          },
          "metadata": {},
          "execution_count": 43
        }
      ]
    },
    {
      "cell_type": "code",
      "source": [
        "keras.backend.clear_session()\n",
        "np.random.seed(42)\n",
        "tf.random.set_seed(42)"
      ],
      "metadata": {
        "id": "133YQ85BPWtH"
      },
      "execution_count": 44,
      "outputs": []
    },
    {
      "cell_type": "code",
      "source": [
        "keras.utils.plot_model(model,\"FashionMnist.png\",show_shapes=True)"
      ],
      "metadata": {
        "colab": {
          "base_uri": "https://localhost:8080/",
          "height": 533
        },
        "id": "Q61d1MMwPpNR",
        "outputId": "08e4f476-f643-4372-b7fc-f236294e882e"
      },
      "execution_count": 45,
      "outputs": [
        {
          "output_type": "execute_result",
          "data": {
            "text/plain": [
              "<IPython.core.display.Image object>"
            ],
            "image/png": "[encoded data removed]"
          },
          "metadata": {},
          "execution_count": 45
        }
      ]
    },
    {
      "cell_type": "code",
      "source": [
        "#list of layers\n",
        "model.layers"
      ],
      "metadata": {
        "colab": {
          "base_uri": "https://localhost:8080/"
        },
        "id": "cMdvyt5PtERY",
        "outputId": "37044e07-c9bd-43c6-92bb-1d88fd737400"
      },
      "execution_count": 47,
      "outputs": [
        {
          "output_type": "execute_result",
          "data": {
            "text/plain": [
              "[<keras.layers.core.flatten.Flatten at 0x7ff190e76950>,\n",
              " <keras.layers.core.dense.Dense at 0x7ff1f94fac90>,\n",
              " <keras.layers.core.dense.Dense at 0x7ff191fa98d0>,\n",
              " <keras.layers.core.dense.Dense at 0x7ff190e4e450>]"
            ]
          },
          "metadata": {},
          "execution_count": 47
        }
      ]
    },
    {
      "cell_type": "code",
      "source": [
        "for index in range(3):\n",
        "  print(model.layers[index].name)"
      ],
      "metadata": {
        "colab": {
          "base_uri": "https://localhost:8080/"
        },
        "id": "zp3eEeG_tLaF",
        "outputId": "78bdfcb0-09ae-4fb2-892d-b9bf1b2d2d7c"
      },
      "execution_count": 48,
      "outputs": [
        {
          "output_type": "stream",
          "name": "stdout",
          "text": [
            "flatten\n",
            "dense\n",
            "dense_1\n"
          ]
        }
      ]
    },
    {
      "cell_type": "code",
      "source": [
        "model.get_layer('dense_1').name"
      ],
      "metadata": {
        "colab": {
          "base_uri": "https://localhost:8080/",
          "height": 35
        },
        "id": "4J8vT_intQub",
        "outputId": "53660c86-a3b4-47c6-ef57-3a6edec8a953"
      },
      "execution_count": 49,
      "outputs": [
        {
          "output_type": "execute_result",
          "data": {
            "text/plain": [
              "'dense_1'"
            ],
            "application/vnd.google.colaboratory.intrinsic+json": {
              "type": "string"
            }
          },
          "metadata": {},
          "execution_count": 49
        }
      ]
    },
    {
      "cell_type": "code",
      "source": [
        "layerWeights , layerBiases = model.layers[1].get_weights()"
      ],
      "metadata": {
        "id": "Z6RS6D54vUit"
      },
      "execution_count": 50,
      "outputs": []
    },
    {
      "cell_type": "code",
      "source": [
        "# All the parameters of a layer can be accessed using get_weights() and set_weight() method.\n",
        "hidden1 = model.layers[2]\n",
        "weights , biases = model.layers[2].get_weights()\n",
        "\n",
        "weights = {}\n",
        "biases = {}\n",
        "\n",
        "for index in range(3):\n",
        "  layerWeights , layerBiases = model.layers[index+1].get_weights()\n",
        "  weights[model.layers[index+1].name] = (layerWeights)\n",
        "  biases[model.layers[index+1].name] = (layerBiases)"
      ],
      "metadata": {
        "id": "dq03GqbztYHy"
      },
      "execution_count": 51,
      "outputs": []
    },
    {
      "cell_type": "code",
      "source": [
        ""
      ],
      "metadata": {
        "id": "UtxyGRVvttN4"
      },
      "execution_count": 51,
      "outputs": []
    },
    {
      "cell_type": "code",
      "source": [
        ""
      ],
      "metadata": {
        "id": "W9JSwdhGt92D"
      },
      "execution_count": 53,
      "outputs": []
    },
    {
      "cell_type": "markdown",
      "source": [
        "The shape of the weight matrix depends on the number of inputs.\n",
        "This is why it is recommended to specify the input_shape when\n",
        "creating the first layer in a Sequential model. However, if you do\n",
        "not specify the input shape, it’s okay: Keras will simply wait until it\n",
        "knows the input shape before it actually builds the model. This will\n",
        "happen either when you feed it actual data (e.g., during training),\n",
        "or when you call its build() method. Until the model is really\n",
        "built, the layers will not have any weights, and you will not be able\n",
        "to do certain things (such as print the model summary or save the\n",
        "model), so if you know the input shape when creating the model, it\n",
        "is best to specify it."
      ],
      "metadata": {
        "id": "3870jHu9xhuZ"
      }
    },
    {
      "cell_type": "markdown",
      "source": [
        "# Compiling the Model"
      ],
      "metadata": {
        "id": "5L9891oYxpW4"
      }
    },
    {
      "cell_type": "code",
      "source": [
        "model.compile(loss = \"sparse_categorical_crossentropy\",\n",
        "              optimizer = \"sgd\",\n",
        "              metrics=[\"accuracy\"])"
      ],
      "metadata": {
        "id": "XIXpm9B9uGpW"
      },
      "execution_count": 54,
      "outputs": []
    },
    {
      "cell_type": "markdown",
      "source": [
        "# Training and Evaluating the Model\n"
      ],
      "metadata": {
        "id": "mtPsVTExyPzT"
      }
    },
    {
      "cell_type": "markdown",
      "source": [
        "\n",
        "\n",
        "*   if\n",
        "the performance on the training set is much better than on the validation set, your model is probably overfitting the training set (or there is a bug, such as a data mismatch between the training set and the validation set).\n",
        "\n",
        "*   If the training set was very skewed, with some classes being overrepresented and others underrepresented, it would be useful to set the class_weight argument when\n",
        "calling the fit() method, giving a larger weight to underrepresented classes, and a\n",
        "lower weight to overrepresented classes. These weights would be used by Keras when\n",
        "computing the loss. If you need per-instance weights instead, you can set the sam\n",
        "ple_weight argument (it supersedes class_weight ). This could be useful for exam‐\n",
        "ple if some instances were labeled by experts while others were labeled using a\n",
        "crowdsourcing platform: you might want to give more weight to the former. You can\n",
        "also provide sample weights (but not class weights) for the validation set by adding\n",
        "them as a third item in the validation_data tuple.\n",
        "\n",
        "\n",
        "\n",
        "*   The fit() method returns a History object containing the training parameters ( his\n",
        "tory.params ), the list of epochs it went through ( history.epoch ), and most impor‐\n",
        "tantly a dictionary ( history.history ) containing the loss and extra metrics it\n",
        "measured at the end of each epoch on the training set and on the validation set (if any).\n",
        "\n",
        "\n",
        "\n"
      ],
      "metadata": {
        "id": "zgMrGJAYym79"
      }
    },
    {
      "cell_type": "code",
      "source": [
        "history = model.fit(X_train,y_train,epochs = 30 , validation_data=(X_valid,y_valid))"
      ],
      "metadata": {
        "colab": {
          "base_uri": "https://localhost:8080/"
        },
        "id": "7RDkrX0MyHuS",
        "outputId": "65c8a27f-eed8-4f3c-8617-e8b012fdb6f3"
      },
      "execution_count": 55,
      "outputs": [
        {
          "output_type": "stream",
          "name": "stdout",
          "text": [
            "Epoch 1/30\n",
            "1563/1563 [==============================] - 8s 5ms/step - loss: 0.7348 - accuracy: 0.7612 - val_loss: 0.5565 - val_accuracy: 0.8114\n",
            "Epoch 2/30\n",
            "1563/1563 [==============================] - 8s 5ms/step - loss: 0.4958 - accuracy: 0.8277 - val_loss: 0.4640 - val_accuracy: 0.8381\n",
            "Epoch 3/30\n",
            "1563/1563 [==============================] - 7s 4ms/step - loss: 0.4493 - accuracy: 0.8439 - val_loss: 0.4319 - val_accuracy: 0.8487\n",
            "Epoch 4/30\n",
            "1563/1563 [==============================] - 7s 4ms/step - loss: 0.4222 - accuracy: 0.8513 - val_loss: 0.4186 - val_accuracy: 0.8543\n",
            "Epoch 5/30\n",
            "1563/1563 [==============================] - 7s 4ms/step - loss: 0.4026 - accuracy: 0.8588 - val_loss: 0.4166 - val_accuracy: 0.8548\n",
            "Epoch 6/30\n",
            "1563/1563 [==============================] - 7s 4ms/step - loss: 0.3871 - accuracy: 0.8637 - val_loss: 0.4141 - val_accuracy: 0.8467\n",
            "Epoch 7/30\n",
            "1563/1563 [==============================] - 7s 4ms/step - loss: 0.3728 - accuracy: 0.8695 - val_loss: 0.3889 - val_accuracy: 0.8632\n",
            "Epoch 8/30\n",
            "1563/1563 [==============================] - 7s 4ms/step - loss: 0.3594 - accuracy: 0.8726 - val_loss: 0.3682 - val_accuracy: 0.8711\n",
            "Epoch 9/30\n",
            "1563/1563 [==============================] - 7s 4ms/step - loss: 0.3499 - accuracy: 0.8757 - val_loss: 0.3557 - val_accuracy: 0.8759\n",
            "Epoch 10/30\n",
            "1563/1563 [==============================] - 7s 4ms/step - loss: 0.3395 - accuracy: 0.8787 - val_loss: 0.3624 - val_accuracy: 0.8731\n",
            "Epoch 11/30\n",
            "1563/1563 [==============================] - 7s 4ms/step - loss: 0.3311 - accuracy: 0.8815 - val_loss: 0.3593 - val_accuracy: 0.8724\n",
            "Epoch 12/30\n",
            "1563/1563 [==============================] - 7s 4ms/step - loss: 0.3226 - accuracy: 0.8857 - val_loss: 0.3719 - val_accuracy: 0.8658\n",
            "Epoch 13/30\n",
            "1563/1563 [==============================] - 7s 4ms/step - loss: 0.3153 - accuracy: 0.8866 - val_loss: 0.3360 - val_accuracy: 0.8798\n",
            "Epoch 14/30\n",
            "1563/1563 [==============================] - 7s 4ms/step - loss: 0.3098 - accuracy: 0.8885 - val_loss: 0.3416 - val_accuracy: 0.8774\n",
            "Epoch 15/30\n",
            "1563/1563 [==============================] - 7s 4ms/step - loss: 0.3032 - accuracy: 0.8902 - val_loss: 0.3392 - val_accuracy: 0.8796\n",
            "Epoch 16/30\n",
            "1563/1563 [==============================] - 7s 4ms/step - loss: 0.2973 - accuracy: 0.8930 - val_loss: 0.3463 - val_accuracy: 0.8765\n",
            "Epoch 17/30\n",
            "1563/1563 [==============================] - 7s 4ms/step - loss: 0.2910 - accuracy: 0.8950 - val_loss: 0.3569 - val_accuracy: 0.8679\n",
            "Epoch 18/30\n",
            "1563/1563 [==============================] - 7s 4ms/step - loss: 0.2843 - accuracy: 0.8977 - val_loss: 0.3215 - val_accuracy: 0.8843\n",
            "Epoch 19/30\n",
            "1563/1563 [==============================] - 7s 4ms/step - loss: 0.2794 - accuracy: 0.8984 - val_loss: 0.3492 - val_accuracy: 0.8714\n",
            "Epoch 20/30\n",
            "1563/1563 [==============================] - 7s 4ms/step - loss: 0.2747 - accuracy: 0.9015 - val_loss: 0.3524 - val_accuracy: 0.8701\n",
            "Epoch 21/30\n",
            "1563/1563 [==============================] - 7s 4ms/step - loss: 0.2698 - accuracy: 0.9022 - val_loss: 0.3179 - val_accuracy: 0.8856\n",
            "Epoch 22/30\n",
            "1563/1563 [==============================] - 7s 4ms/step - loss: 0.2644 - accuracy: 0.9044 - val_loss: 0.3342 - val_accuracy: 0.8798\n",
            "Epoch 23/30\n",
            "1563/1563 [==============================] - 7s 5ms/step - loss: 0.2598 - accuracy: 0.9059 - val_loss: 0.3186 - val_accuracy: 0.8830\n",
            "Epoch 24/30\n",
            "1563/1563 [==============================] - 7s 4ms/step - loss: 0.2566 - accuracy: 0.9073 - val_loss: 0.3221 - val_accuracy: 0.8847\n",
            "Epoch 25/30\n",
            "1563/1563 [==============================] - 7s 4ms/step - loss: 0.2509 - accuracy: 0.9095 - val_loss: 0.3213 - val_accuracy: 0.8812\n",
            "Epoch 26/30\n",
            "1563/1563 [==============================] - 7s 4ms/step - loss: 0.2468 - accuracy: 0.9119 - val_loss: 0.3247 - val_accuracy: 0.8799\n",
            "Epoch 27/30\n",
            "1563/1563 [==============================] - 6s 4ms/step - loss: 0.2420 - accuracy: 0.9130 - val_loss: 0.3243 - val_accuracy: 0.8810\n",
            "Epoch 28/30\n",
            "1563/1563 [==============================] - 7s 4ms/step - loss: 0.2393 - accuracy: 0.9134 - val_loss: 0.3194 - val_accuracy: 0.8859\n",
            "Epoch 29/30\n",
            "1563/1563 [==============================] - 7s 4ms/step - loss: 0.2347 - accuracy: 0.9156 - val_loss: 0.3008 - val_accuracy: 0.8894\n",
            "Epoch 30/30\n",
            "1563/1563 [==============================] - 6s 4ms/step - loss: 0.2315 - accuracy: 0.9163 - val_loss: 0.3113 - val_accuracy: 0.8852\n"
          ]
        }
      ]
    },
    {
      "cell_type": "code",
      "source": [
        "print(history.params)"
      ],
      "metadata": {
        "colab": {
          "base_uri": "https://localhost:8080/"
        },
        "id": "_TLvm7I70tbm",
        "outputId": "85ce6a82-568c-47ca-828f-8a6db8702d48"
      },
      "execution_count": 56,
      "outputs": [
        {
          "output_type": "stream",
          "name": "stdout",
          "text": [
            "{'verbose': 1, 'epochs': 30, 'steps': 1563}\n"
          ]
        }
      ]
    },
    {
      "cell_type": "code",
      "source": [
        "print(history.epoch)"
      ],
      "metadata": {
        "colab": {
          "base_uri": "https://localhost:8080/"
        },
        "id": "92mkG9ZGQBZy",
        "outputId": "577bd887-cf8d-4a2f-fd84-ff8033a2e7b3"
      },
      "execution_count": 58,
      "outputs": [
        {
          "output_type": "stream",
          "name": "stdout",
          "text": [
            "[0, 1, 2, 3, 4, 5, 6, 7, 8, 9, 10, 11, 12, 13, 14, 15, 16, 17, 18, 19, 20, 21, 22, 23, 24, 25, 26, 27, 28, 29]\n"
          ]
        }
      ]
    },
    {
      "cell_type": "code",
      "source": [
        "print(history.history.keys())"
      ],
      "metadata": {
        "colab": {
          "base_uri": "https://localhost:8080/"
        },
        "id": "yPkDa2dI0w_h",
        "outputId": "2316cd94-b759-4272-a7bb-b15340d6c231"
      },
      "execution_count": 59,
      "outputs": [
        {
          "output_type": "stream",
          "name": "stdout",
          "text": [
            "dict_keys(['loss', 'accuracy', 'val_loss', 'val_accuracy'])\n"
          ]
        }
      ]
    },
    {
      "cell_type": "code",
      "source": [
        ""
      ],
      "metadata": {
        "id": "tQHTb6xuR4ZU"
      },
      "execution_count": null,
      "outputs": []
    },
    {
      "cell_type": "markdown",
      "source": [
        "# Visualization"
      ],
      "metadata": {
        "id": "wROznRmA09--"
      }
    },
    {
      "cell_type": "code",
      "source": [
        "import pandas as pd\n",
        "\n",
        "pd.DataFrame(history.history).plot(figsize=(20,10))\n",
        "plt.grid(True)\n",
        "plt.gca().set_ylim(0,1)\n",
        "plt.show()"
      ],
      "metadata": {
        "colab": {
          "base_uri": "https://localhost:8080/",
          "height": 596
        },
        "id": "twMqhpZ90yoe",
        "outputId": "5b94d89b-0da2-42fd-ad18-424b8520f84a"
      },
      "execution_count": null,
      "outputs": [
        {
          "output_type": "display_data",
          "data": {
            "text/plain": [
              "<Figure size 1440x720 with 1 Axes>"
            ],
            "image/png": "[encoded data removed]"
          },
          "metadata": {
            "needs_background": "light"
          }
        }
      ]
    },
    {
      "cell_type": "markdown",
      "source": [
        "\n",
        "\n",
        "*   If you are not satisfied with the performance of your model, you should go back and\n",
        "tune the model’s hyperparameters, for example the number of layers, the number of\n",
        "neurons per layer, the types of activation functions we use for each hidden layer, the number of training epochs, the batch size (it can be set in the fit() method using the\n",
        "batch_size argument, which defaults to 32).\n",
        "\n",
        "*   Once you are satisfied with your model’s validation\n",
        "accuracy, you should evaluate it on the test set to estimate the generalization error\n",
        "before you deploy the model to production.\n",
        "\n"
      ],
      "metadata": {
        "id": "vf_7mogoyPEr"
      }
    },
    {
      "cell_type": "code",
      "source": [
        "model.evaluate(X_test,y_test)"
      ],
      "metadata": {
        "colab": {
          "base_uri": "https://localhost:8080/"
        },
        "id": "13obwbj12I99",
        "outputId": "1891e56b-099e-4216-84b6-b25c78fd9113"
      },
      "execution_count": null,
      "outputs": [
        {
          "output_type": "stream",
          "name": "stdout",
          "text": [
            "313/313 [==============================] - 2s 5ms/step - loss: 61.2155 - accuracy: 0.8501\n"
          ]
        },
        {
          "output_type": "execute_result",
          "data": {
            "text/plain": [
              "[61.21548843383789, 0.8500999808311462]"
            ]
          },
          "metadata": {},
          "execution_count": 89
        }
      ]
    },
    {
      "cell_type": "code",
      "source": [
        "32*313"
      ],
      "metadata": {
        "colab": {
          "base_uri": "https://localhost:8080/"
        },
        "id": "_SRkaJbG2M7K",
        "outputId": "c3174128-0293-4d30-cdfe-cbc8a4799d20"
      },
      "execution_count": null,
      "outputs": [
        {
          "output_type": "execute_result",
          "data": {
            "text/plain": [
              "10016"
            ]
          },
          "metadata": {},
          "execution_count": 92
        }
      ]
    },
    {
      "cell_type": "markdown",
      "source": [
        "# Using the Model To make Predictions"
      ],
      "metadata": {
        "id": "T4afR7FP278S"
      }
    },
    {
      "cell_type": "code",
      "source": [
        "X_new = X_test[:3]\n",
        "y_proba = model.predict(X_new)"
      ],
      "metadata": {
        "id": "nilVfWtR2ldh"
      },
      "execution_count": null,
      "outputs": []
    },
    {
      "cell_type": "code",
      "source": [
        "y_proba"
      ],
      "metadata": {
        "colab": {
          "base_uri": "https://localhost:8080/"
        },
        "id": "dTxASBcv3GnV",
        "outputId": "7569aa36-6050-4a5f-85d1-5bc800e8b92f"
      },
      "execution_count": null,
      "outputs": [
        {
          "output_type": "execute_result",
          "data": {
            "text/plain": [
              "array([[0., 0., 0., 0., 0., 0., 0., 0., 0., 1.],\n",
              "       [0., 0., 1., 0., 0., 0., 0., 0., 0., 0.],\n",
              "       [0., 1., 0., 0., 0., 0., 0., 0., 0., 0.]], dtype=float32)"
            ]
          },
          "metadata": {},
          "execution_count": 94
        }
      ]
    },
    {
      "cell_type": "code",
      "source": [
        "# if care about the class with the highest estimated probability\n",
        "predictClass=model.predict(X_new) \n",
        "classes_x=np.argmax(predictClass,axis=1)"
      ],
      "metadata": {
        "id": "pgmbS_h73ISj"
      },
      "execution_count": null,
      "outputs": []
    },
    {
      "cell_type": "code",
      "source": [
        "classes_x"
      ],
      "metadata": {
        "colab": {
          "base_uri": "https://localhost:8080/"
        },
        "id": "61DseEak3Q1_",
        "outputId": "973b7aaf-40ed-4a3f-8c45-04f8c0f71beb"
      },
      "execution_count": null,
      "outputs": [
        {
          "output_type": "execute_result",
          "data": {
            "text/plain": [
              "array([9, 2, 1])"
            ]
          },
          "metadata": {},
          "execution_count": 104
        }
      ]
    },
    {
      "cell_type": "code",
      "source": [
        "y_test[:3]"
      ],
      "metadata": {
        "colab": {
          "base_uri": "https://localhost:8080/"
        },
        "id": "DllZQ-f_3Yl8",
        "outputId": "d9de28d5-b7d0-4c60-e3ab-12beea7fa4be"
      },
      "execution_count": null,
      "outputs": [
        {
          "output_type": "execute_result",
          "data": {
            "text/plain": [
              "array([9, 2, 1], dtype=uint8)"
            ]
          },
          "metadata": {},
          "execution_count": 105
        }
      ]
    },
    {
      "cell_type": "code",
      "source": [
        ""
      ],
      "metadata": {
        "id": "Op8qjd8H3jzt"
      },
      "execution_count": null,
      "outputs": []
    }
  ]
}