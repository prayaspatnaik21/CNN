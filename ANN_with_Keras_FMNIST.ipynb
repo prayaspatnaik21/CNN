{
  "nbformat": 4,
  "nbformat_minor": 0,
  "metadata": {
    "colab": {
      "name": "ANN with Keras_FMNIST.ipynb",
      "provenance": []
    },
    "kernelspec": {
      "name": "python3",
      "display_name": "Python 3"
    },
    "language_info": {
      "name": "python"
    }
  },
  "cells": [
    {
      "cell_type": "markdown",
      "source": [
        "\n",
        "\n",
        "*   Keras is a simple High level API for building, training,evaluating and runnning neural networks.\n",
        "\n",
        "*   The  perceptron is the simplest ANN architectures.It is based on a slightly different artificial neuron called TLU(Threshold Logic Unit) or LTU(Linear Threshold Unit),the inputs and outputs are numbers and each input connection is associated with a weight.The TLU computes a weighted sum of the inputs , then applies a step function to that sum and outputs the result.\n",
        "\n",
        "*   A single TLU can be used for simple linear Binary Classification.It computes a linear combination of the inputs and the results exceeds a threshold,it output the positive class or else outputs the negative class.\n",
        "*   A Perceptron is simply composed of single layer of TLUs with each TLU connected tp all the inputs.When all the neurons in a layer are connected to every neuron in the previous layer, it is called **fully connected layer or dense layer**.\n",
        "\n",
        "\n",
        "*   Perceptron are trained taking account of the error made by the network . It reinforces connections that help reduce the error.\n",
        "\n",
        "*   Pereception Learning Rule - \n",
        "\\w(i,j) = w(i,j) + n*(y(j) - yhat(j))x(i)\n",
        "\n",
        "  *   w(i,j) is the connection weight between ith input neuron and jth output neuron.\n",
        "  *   x(i) is the ith input value of the current training instance.\n",
        "  *   yhat(i) is the output of the jth output neuron for the current training instance.\n",
        "  *   y(j) is the target output of the jth output neuron for the current training instance.\n",
        "  *   n is the learning rate.\n",
        "\n",
        "\n",
        "\n",
        "*   The decision boundary of each output neuron is linear , so Perceptrons are incapable  of learning complex patterns.\n",
        "*   If the training instances are linearly separable , then this algorithm would converge to a solution.This is called **Perceptron Convergence Theorem**.\n",
        "\n",
        "\n",
        "\n",
        "\n",
        "\n",
        "\n",
        "\n",
        "\n",
        "\n",
        "\n",
        "\n",
        "\n",
        "\n",
        "\n",
        "\n",
        "\n"
      ],
      "metadata": {
        "id": "CNznmyIjIJ7N"
      }
    },
    {
      "cell_type": "markdown",
      "source": [
        "# Implementing a TLU Network for Iris Dataset"
      ],
      "metadata": {
        "id": "OYtBns00NoZy"
      }
    },
    {
      "cell_type": "code",
      "execution_count": 2,
      "metadata": {
        "id": "deKddg-K-bVR"
      },
      "outputs": [],
      "source": [
        "import numpy as np\n",
        "from sklearn.datasets import load_iris\n",
        "from sklearn.linear_model import Perceptron"
      ]
    },
    {
      "cell_type": "code",
      "source": [
        "iris = load_iris()\n",
        "X = iris.data[:,(2,3)] # Petal Length, Petal Width\n",
        "\n",
        "# astype() method is used to cast a pandas object to a specified dtype. \n",
        "#astype() function also provides the capability to convert any suitable existing column to categorical type\n",
        "\n",
        "# Below code transforms the target column into two categories , target which is 0 is set to 1 category and rest of the categories are combined into one.\n",
        "y = (iris.target == 0).astype(np.int)"
      ],
      "metadata": {
        "colab": {
          "base_uri": "https://localhost:8080/"
        },
        "id": "MCluRXCQN465",
        "outputId": "719f1bc6-4e68-4102-8c18-8ecc7c8441f6"
      },
      "execution_count": 15,
      "outputs": [
        {
          "output_type": "stream",
          "name": "stderr",
          "text": [
            "/usr/local/lib/python3.7/dist-packages/ipykernel_launcher.py:8: DeprecationWarning: `np.int` is a deprecated alias for the builtin `int`. To silence this warning, use `int` by itself. Doing this will not modify any behavior and is safe. When replacing `np.int`, you may wish to use e.g. `np.int64` or `np.int32` to specify the precision. If you wish to review your current use, check the release note link for additional information.\n",
            "Deprecated in NumPy 1.20; for more details and guidance: https://numpy.org/devdocs/release/1.20.0-notes.html#deprecations\n",
            "  \n"
          ]
        }
      ]
    },
    {
      "cell_type": "code",
      "source": [
        "y"
      ],
      "metadata": {
        "colab": {
          "base_uri": "https://localhost:8080/"
        },
        "id": "1SpEmxEmOBKZ",
        "outputId": "a014e875-2710-461a-df17-debcd481fb34"
      },
      "execution_count": 16,
      "outputs": [
        {
          "output_type": "execute_result",
          "data": {
            "text/plain": [
              "array([1, 1, 1, 1, 1, 1, 1, 1, 1, 1, 1, 1, 1, 1, 1, 1, 1, 1, 1, 1, 1, 1,\n",
              "       1, 1, 1, 1, 1, 1, 1, 1, 1, 1, 1, 1, 1, 1, 1, 1, 1, 1, 1, 1, 1, 1,\n",
              "       1, 1, 1, 1, 1, 1, 0, 0, 0, 0, 0, 0, 0, 0, 0, 0, 0, 0, 0, 0, 0, 0,\n",
              "       0, 0, 0, 0, 0, 0, 0, 0, 0, 0, 0, 0, 0, 0, 0, 0, 0, 0, 0, 0, 0, 0,\n",
              "       0, 0, 0, 0, 0, 0, 0, 0, 0, 0, 0, 0, 0, 0, 0, 0, 0, 0, 0, 0, 0, 0,\n",
              "       0, 0, 0, 0, 0, 0, 0, 0, 0, 0, 0, 0, 0, 0, 0, 0, 0, 0, 0, 0, 0, 0,\n",
              "       0, 0, 0, 0, 0, 0, 0, 0, 0, 0, 0, 0, 0, 0, 0, 0, 0, 0])"
            ]
          },
          "metadata": {},
          "execution_count": 16
        }
      ]
    },
    {
      "cell_type": "code",
      "source": [
        "iris.target"
      ],
      "metadata": {
        "colab": {
          "base_uri": "https://localhost:8080/"
        },
        "id": "gaKJolUhOsy3",
        "outputId": "0d0ed6de-f630-4cca-eafb-176097bad4b4"
      },
      "execution_count": 17,
      "outputs": [
        {
          "output_type": "execute_result",
          "data": {
            "text/plain": [
              "array([0, 0, 0, 0, 0, 0, 0, 0, 0, 0, 0, 0, 0, 0, 0, 0, 0, 0, 0, 0, 0, 0,\n",
              "       0, 0, 0, 0, 0, 0, 0, 0, 0, 0, 0, 0, 0, 0, 0, 0, 0, 0, 0, 0, 0, 0,\n",
              "       0, 0, 0, 0, 0, 0, 1, 1, 1, 1, 1, 1, 1, 1, 1, 1, 1, 1, 1, 1, 1, 1,\n",
              "       1, 1, 1, 1, 1, 1, 1, 1, 1, 1, 1, 1, 1, 1, 1, 1, 1, 1, 1, 1, 1, 1,\n",
              "       1, 1, 1, 1, 1, 1, 1, 1, 1, 1, 1, 1, 2, 2, 2, 2, 2, 2, 2, 2, 2, 2,\n",
              "       2, 2, 2, 2, 2, 2, 2, 2, 2, 2, 2, 2, 2, 2, 2, 2, 2, 2, 2, 2, 2, 2,\n",
              "       2, 2, 2, 2, 2, 2, 2, 2, 2, 2, 2, 2, 2, 2, 2, 2, 2, 2])"
            ]
          },
          "metadata": {},
          "execution_count": 17
        }
      ]
    },
    {
      "cell_type": "code",
      "source": [
        "#Creating a Perceptron instance\n",
        "per_clf = Perceptron()\n",
        "per_clf.fit(X,y)"
      ],
      "metadata": {
        "colab": {
          "base_uri": "https://localhost:8080/"
        },
        "id": "l9CHgnkLOxf0",
        "outputId": "da8b655e-386d-42f5-d090-06292b713ef6"
      },
      "execution_count": 18,
      "outputs": [
        {
          "output_type": "execute_result",
          "data": {
            "text/plain": [
              "Perceptron()"
            ]
          },
          "metadata": {},
          "execution_count": 18
        }
      ]
    },
    {
      "cell_type": "markdown",
      "source": [
        "\n",
        "\n",
        "*   Perceptrons do not output a class probability.\n",
        "*   It make predictions based on a hard threshold.\n",
        "\n",
        "\n",
        "*   It is advisable to use Logistic Regression over Perceptrons.\n",
        "\n",
        "\n"
      ],
      "metadata": {
        "id": "iTzZwg01QK7C"
      }
    },
    {
      "cell_type": "code",
      "source": [
        "y_pred = per_clf.predict([[2,.05]])\n",
        "y_pred"
      ],
      "metadata": {
        "colab": {
          "base_uri": "https://localhost:8080/"
        },
        "id": "40fxa9KKPgx2",
        "outputId": "7831ffb3-accd-4514-9fd1-527e016f9fe3"
      },
      "execution_count": 20,
      "outputs": [
        {
          "output_type": "execute_result",
          "data": {
            "text/plain": [
              "array([1])"
            ]
          },
          "metadata": {},
          "execution_count": 20
        }
      ]
    },
    {
      "cell_type": "markdown",
      "source": [
        "# Disadvantages of Perceptron\n",
        "\n",
        "*   Incapable of solving some trivial problems(XOR) classification problem.\n",
        "*   This limitation can be eliminated by stacking multiplt perceptrons.The resulting ANN is called MLP.\n",
        "\n"
      ],
      "metadata": {
        "id": "zPBqk_OBQjvN"
      }
    },
    {
      "cell_type": "markdown",
      "source": [
        "# MLP and BackPropagation\n",
        "\n",
        "\n",
        "\n",
        "*   MLP is composed of one (passthrough) input layer,one or more layers of TLUs,called hidden layers and one final layer of TLUs called the output layer.\n",
        "*   The layer close to the input layer are usually called the lower layers.\n",
        "*   The ones close to the outputs are called the upper layers.\n",
        "*   Every layer except the output layer includes a bias neuron and is fully connected to the next layer.\n",
        "\n",
        "\n",
        "\n",
        "\n",
        "*   ANNN containing deep stack of hidden Layers is called a deep neural networks.\n",
        "\n",
        "\n",
        "*   **BackPropagation**\n",
        "  *   for each trainig instance the BP algorithm firt makes a prediction9forward pass)\n",
        "  *   Measures the error.\n",
        "  *   Goes through each layer in reverse to measure the error contribution from each connection and finally slightly tweaks the connection weights to reduce the error.\n",
        "\n",
        "\n",
        "\n",
        "*   Slight change in the MLP Architecture, replaces the step function with the logistic function. It was essential because the step function contains only flat segments, so there is no gradient to work with.BackPropagation algorithms works well wiith many other activation functions.\n",
        "\n",
        "## Regression MLPs\n",
        "\n",
        "\n",
        "\n",
        "*   Used for Regression tasks.\n",
        "*   When buildng an MPL for regression , No need to use activation function for the ouput neurons.They are free to output any range of values.\n",
        "\n",
        "\n",
        "*   If guarantee that the output will always be positive, then can use the RelU activation function or the softplus function in the output layer.\n",
        "*   The loss function to use during training is typically MSE.If the data has lots of outliers in the training set, prefer using mean absolute error.\n",
        "\n",
        "## Classification MLPs\n",
        "\n",
        "\n",
        "\n",
        "*   Used for classification tasks.\n",
        "\n",
        "\n",
        "\n",
        "\n",
        "\n",
        "\n",
        "\n",
        "\n",
        "\n",
        "\n",
        "\n",
        "\n",
        "\n",
        "\n",
        "\n"
      ],
      "metadata": {
        "id": "YT1JRMqcRCiD"
      }
    },
    {
      "cell_type": "markdown",
      "source": [
        "# Implementing MLPs with Keras"
      ],
      "metadata": {
        "id": "vpYtW4ucYMhD"
      }
    },
    {
      "cell_type": "code",
      "source": [
        "import tensorflow as tf\n",
        "from tensorflow import keras\n",
        "import matplotlib.pyplot as plt"
      ],
      "metadata": {
        "id": "WUzdD9BfPhhm"
      },
      "execution_count": 83,
      "outputs": []
    },
    {
      "cell_type": "code",
      "source": [
        "#Version of the Tensorflow\n",
        "tf.__version__"
      ],
      "metadata": {
        "colab": {
          "base_uri": "https://localhost:8080/",
          "height": 35
        },
        "id": "fzdXX8oWYl_R",
        "outputId": "09cf40fb-0ee1-4f29-96d6-96ce4fc1eb46"
      },
      "execution_count": 23,
      "outputs": [
        {
          "output_type": "execute_result",
          "data": {
            "text/plain": [
              "'2.8.2'"
            ],
            "application/vnd.google.colaboratory.intrinsic+json": {
              "type": "string"
            }
          },
          "metadata": {},
          "execution_count": 23
        }
      ]
    },
    {
      "cell_type": "markdown",
      "source": [
        "# Building an Image Classifier using the Sequential API"
      ],
      "metadata": {
        "id": "v6Db3xpbYxZa"
      }
    },
    {
      "cell_type": "code",
      "source": [
        "fashion_data = keras.datasets.fashion_mnist\n",
        "(X_train_full, y_train_full),(X_test,y_test) = fashion_data.load_data()"
      ],
      "metadata": {
        "colab": {
          "base_uri": "https://localhost:8080/"
        },
        "id": "M7-C0GvdYs8c",
        "outputId": "77c39a88-c3cc-4197-c350-ff39a8b53431"
      },
      "execution_count": 27,
      "outputs": [
        {
          "output_type": "stream",
          "name": "stdout",
          "text": [
            "Downloading data from https://storage.googleapis.com/tensorflow/tf-keras-datasets/train-labels-idx1-ubyte.gz\n",
            "32768/29515 [=================================] - 0s 0us/step\n",
            "40960/29515 [=========================================] - 0s 0us/step\n",
            "Downloading data from https://storage.googleapis.com/tensorflow/tf-keras-datasets/train-images-idx3-ubyte.gz\n",
            "26427392/26421880 [==============================] - 0s 0us/step\n",
            "26435584/26421880 [==============================] - 0s 0us/step\n",
            "Downloading data from https://storage.googleapis.com/tensorflow/tf-keras-datasets/t10k-labels-idx1-ubyte.gz\n",
            "16384/5148 [===============================================================================================] - 0s 0us/step\n",
            "Downloading data from https://storage.googleapis.com/tensorflow/tf-keras-datasets/t10k-images-idx3-ubyte.gz\n",
            "4423680/4422102 [==============================] - 0s 0us/step\n",
            "4431872/4422102 [==============================] - 0s 0us/step\n"
          ]
        }
      ]
    },
    {
      "cell_type": "code",
      "source": [
        "#Shape of the Data\n",
        "X_train_full.shape"
      ],
      "metadata": {
        "colab": {
          "base_uri": "https://localhost:8080/"
        },
        "id": "-OjjWM49ZEgF",
        "outputId": "92bd19e0-9099-4214-8fcc-2393f138d088"
      },
      "execution_count": 28,
      "outputs": [
        {
          "output_type": "execute_result",
          "data": {
            "text/plain": [
              "(60000, 28, 28)"
            ]
          },
          "metadata": {},
          "execution_count": 28
        }
      ]
    },
    {
      "cell_type": "code",
      "source": [
        "X_train_full.dtype"
      ],
      "metadata": {
        "colab": {
          "base_uri": "https://localhost:8080/"
        },
        "id": "c24zQp4HfiYf",
        "outputId": "f759491e-947b-47b3-a30a-4a1d35ded873"
      },
      "execution_count": 29,
      "outputs": [
        {
          "output_type": "execute_result",
          "data": {
            "text/plain": [
              "dtype('uint8')"
            ]
          },
          "metadata": {},
          "execution_count": 29
        }
      ]
    },
    {
      "cell_type": "code",
      "source": [
        "X_test.shape"
      ],
      "metadata": {
        "colab": {
          "base_uri": "https://localhost:8080/"
        },
        "id": "jV4rhKde2qaP",
        "outputId": "182c3834-d71e-4015-9a3a-6ce300145bda"
      },
      "execution_count": 91,
      "outputs": [
        {
          "output_type": "execute_result",
          "data": {
            "text/plain": [
              "(10000, 28, 28)"
            ]
          },
          "metadata": {},
          "execution_count": 91
        }
      ]
    },
    {
      "cell_type": "code",
      "source": [
        "#Scaling the DataSet\n",
        "X_valid , X_train = X_train_full[:10000]/255.0 , X_train_full[10000:] / 255.0\n",
        "y_valid , y_train = y_train_full[:10000] , y_train_full[10000:]"
      ],
      "metadata": {
        "id": "kgLzGzTNfkqL"
      },
      "execution_count": 30,
      "outputs": []
    },
    {
      "cell_type": "code",
      "source": [
        "#Class names\n",
        "class_names  = ['T-shirt/top','Trouser','Pullover','Dress','Coat','Sandal','Shirt','Sneaker','Bag','Ankle boot']"
      ],
      "metadata": {
        "id": "5Pp5S8wMgCBX"
      },
      "execution_count": 31,
      "outputs": []
    },
    {
      "cell_type": "code",
      "source": [
        "class_names[y_train[0]]"
      ],
      "metadata": {
        "colab": {
          "base_uri": "https://localhost:8080/",
          "height": 35
        },
        "id": "CTvKYGSmgWIo",
        "outputId": "2a8559ef-f089-4bca-c890-e2700deadd0c"
      },
      "execution_count": 32,
      "outputs": [
        {
          "output_type": "execute_result",
          "data": {
            "text/plain": [
              "'Bag'"
            ],
            "application/vnd.google.colaboratory.intrinsic+json": {
              "type": "string"
            }
          },
          "metadata": {},
          "execution_count": 32
        }
      ]
    },
    {
      "cell_type": "code",
      "source": [
        "y_train[0]"
      ],
      "metadata": {
        "colab": {
          "base_uri": "https://localhost:8080/"
        },
        "id": "r7JC3GTjgZDc",
        "outputId": "2c227d67-45b5-4014-f22b-e9812179ebfb"
      },
      "execution_count": 34,
      "outputs": [
        {
          "output_type": "execute_result",
          "data": {
            "text/plain": [
              "8"
            ]
          },
          "metadata": {},
          "execution_count": 34
        }
      ]
    },
    {
      "cell_type": "markdown",
      "source": [
        "# Creating the  Model Using the Sequential API"
      ],
      "metadata": {
        "id": "R2RpJHpggfFS"
      }
    },
    {
      "cell_type": "code",
      "source": [
        "model = keras.models.Sequential([\n",
        "                                 keras.layers.Flatten(input_shape=[28,28]),\n",
        "                                 keras.layers.Dense(300,activation=\"relu\"),\n",
        "                                 keras.layers.Dense(100, activation = 'relu'),\n",
        "                                 keras.layers.Dense(10,activation='softmax')\n",
        "])"
      ],
      "metadata": {
        "id": "IfAGThqdgaKM"
      },
      "execution_count": 35,
      "outputs": []
    },
    {
      "cell_type": "code",
      "source": [
        "model.summary()"
      ],
      "metadata": {
        "colab": {
          "base_uri": "https://localhost:8080/"
        },
        "id": "4CP9J1HlscA1",
        "outputId": "76142ce7-5c09-4897-c5cc-92b7767164a1"
      },
      "execution_count": 36,
      "outputs": [
        {
          "output_type": "stream",
          "name": "stdout",
          "text": [
            "Model: \"sequential\"\n",
            "_________________________________________________________________\n",
            " Layer (type)                Output Shape              Param #   \n",
            "=================================================================\n",
            " flatten (Flatten)           (None, 784)               0         \n",
            "                                                                 \n",
            " dense (Dense)               (None, 300)               235500    \n",
            "                                                                 \n",
            " dense_1 (Dense)             (None, 100)               30100     \n",
            "                                                                 \n",
            " dense_2 (Dense)             (None, 10)                1010      \n",
            "                                                                 \n",
            "=================================================================\n",
            "Total params: 266,610\n",
            "Trainable params: 266,610\n",
            "Non-trainable params: 0\n",
            "_________________________________________________________________\n"
          ]
        }
      ]
    },
    {
      "cell_type": "code",
      "source": [
        "#Checking the number of parameters manually for FC layers.\n",
        "# no.of neurons * no. of previous layer neurons + no of bias(number of neurons in the layer) \n",
        "784*300 + 300"
      ],
      "metadata": {
        "colab": {
          "base_uri": "https://localhost:8080/"
        },
        "id": "Ptfv9_W7sd_8",
        "outputId": "581f00c2-6d9e-4a68-ad71-1827d6060093"
      },
      "execution_count": 41,
      "outputs": [
        {
          "output_type": "execute_result",
          "data": {
            "text/plain": [
              "235500"
            ]
          },
          "metadata": {},
          "execution_count": 41
        }
      ]
    },
    {
      "cell_type": "code",
      "source": [
        "300*100 + 100"
      ],
      "metadata": {
        "colab": {
          "base_uri": "https://localhost:8080/"
        },
        "id": "njSV8555sh8o",
        "outputId": "fbfc4a29-0e9c-4a12-f3e2-b0fe608a04d0"
      },
      "execution_count": 42,
      "outputs": [
        {
          "output_type": "execute_result",
          "data": {
            "text/plain": [
              "30100"
            ]
          },
          "metadata": {},
          "execution_count": 42
        }
      ]
    },
    {
      "cell_type": "code",
      "source": [
        "100*10 + 10"
      ],
      "metadata": {
        "colab": {
          "base_uri": "https://localhost:8080/"
        },
        "id": "HkVK2887spsv",
        "outputId": "a63868fa-e107-4288-e0bf-f2ee11ef5585"
      },
      "execution_count": 43,
      "outputs": [
        {
          "output_type": "execute_result",
          "data": {
            "text/plain": [
              "1010"
            ]
          },
          "metadata": {},
          "execution_count": 43
        }
      ]
    },
    {
      "cell_type": "code",
      "source": [
        "#list of layers\n",
        "model.layers"
      ],
      "metadata": {
        "colab": {
          "base_uri": "https://localhost:8080/"
        },
        "id": "cMdvyt5PtERY",
        "outputId": "8fce72ce-06c6-445b-9063-ba71670cb0b6"
      },
      "execution_count": 44,
      "outputs": [
        {
          "output_type": "execute_result",
          "data": {
            "text/plain": [
              "[<keras.layers.core.flatten.Flatten at 0x7fd4cce93fd0>,\n",
              " <keras.layers.core.dense.Dense at 0x7fd4cd476a10>,\n",
              " <keras.layers.core.dense.Dense at 0x7fd4cc783fd0>,\n",
              " <keras.layers.core.dense.Dense at 0x7fd4cc848bd0>]"
            ]
          },
          "metadata": {},
          "execution_count": 44
        }
      ]
    },
    {
      "cell_type": "code",
      "source": [
        "for index in range(3):\n",
        "  print(model.layers[index].name)"
      ],
      "metadata": {
        "colab": {
          "base_uri": "https://localhost:8080/"
        },
        "id": "zp3eEeG_tLaF",
        "outputId": "9c951f5e-5501-470e-b45c-54ce5171b1fe"
      },
      "execution_count": 55,
      "outputs": [
        {
          "output_type": "stream",
          "name": "stdout",
          "text": [
            "flatten\n",
            "dense\n",
            "dense_1\n"
          ]
        }
      ]
    },
    {
      "cell_type": "code",
      "source": [
        "model.get_layer('dense_1').name"
      ],
      "metadata": {
        "colab": {
          "base_uri": "https://localhost:8080/",
          "height": 35
        },
        "id": "4J8vT_intQub",
        "outputId": "1bf8b472-27af-4b8e-8c8f-08a3e9ed23a6"
      },
      "execution_count": 47,
      "outputs": [
        {
          "output_type": "execute_result",
          "data": {
            "text/plain": [
              "'dense_1'"
            ],
            "application/vnd.google.colaboratory.intrinsic+json": {
              "type": "string"
            }
          },
          "metadata": {},
          "execution_count": 47
        }
      ]
    },
    {
      "cell_type": "code",
      "source": [
        "layerWeights , layerBiases = model.layers[1].get_weights()"
      ],
      "metadata": {
        "id": "Z6RS6D54vUit"
      },
      "execution_count": 78,
      "outputs": []
    },
    {
      "cell_type": "code",
      "source": [
        "# All the parameters of a layer can be accessed using get_weights() and set_weight() method.\n",
        "hidden1 = model.layers[2]\n",
        "weights , biases = model.layers[2].get_weights()\n",
        "\n",
        "weights = {}\n",
        "biases = {}\n",
        "\n",
        "for index in range(3):\n",
        "  layerWeights , layerBiases = model.layers[index+1].get_weights()\n",
        "  weights[model.layers[index+1].name] = (layerWeights)\n",
        "  biases[model.layers[index+1].name] = (layerBiases)"
      ],
      "metadata": {
        "id": "dq03GqbztYHy"
      },
      "execution_count": 72,
      "outputs": []
    },
    {
      "cell_type": "code",
      "source": [
        ""
      ],
      "metadata": {
        "id": "UtxyGRVvttN4"
      },
      "execution_count": 76,
      "outputs": []
    },
    {
      "cell_type": "code",
      "source": [
        "weights.shape"
      ],
      "metadata": {
        "colab": {
          "base_uri": "https://localhost:8080/"
        },
        "id": "W9JSwdhGt92D",
        "outputId": "4c3ee84c-7972-4551-9c46-69a754453af0"
      },
      "execution_count": 53,
      "outputs": [
        {
          "output_type": "execute_result",
          "data": {
            "text/plain": [
              "(300, 100)"
            ]
          },
          "metadata": {},
          "execution_count": 53
        }
      ]
    },
    {
      "cell_type": "markdown",
      "source": [
        "The shape of the weight matrix depends on the number of inputs.\n",
        "This is why it is recommended to specify the input_shape when\n",
        "creating the first layer in a Sequential model. However, if you do\n",
        "not specify the input shape, it’s okay: Keras will simply wait until it\n",
        "knows the input shape before it actually builds the model. This will\n",
        "happen either when you feed it actual data (e.g., during training),\n",
        "or when you call its build() method. Until the model is really\n",
        "built, the layers will not have any weights, and you will not be able\n",
        "to do certain things (such as print the model summary or save the\n",
        "model), so if you know the input shape when creating the model, it\n",
        "is best to specify it."
      ],
      "metadata": {
        "id": "3870jHu9xhuZ"
      }
    },
    {
      "cell_type": "markdown",
      "source": [
        "# Compiling the Model"
      ],
      "metadata": {
        "id": "5L9891oYxpW4"
      }
    },
    {
      "cell_type": "code",
      "source": [
        "model.compile(loss = \"sparse_categorical_crossentropy\",\n",
        "              optimizer = \"sgd\",\n",
        "              metrics=[\"accuracy\"])"
      ],
      "metadata": {
        "id": "XIXpm9B9uGpW"
      },
      "execution_count": 79,
      "outputs": []
    },
    {
      "cell_type": "markdown",
      "source": [
        "# Training and Evaluating the Model\n"
      ],
      "metadata": {
        "id": "mtPsVTExyPzT"
      }
    },
    {
      "cell_type": "markdown",
      "source": [
        "\n",
        "\n",
        "*   if\n",
        "the performance on the training set is much better than on the validation set, your model is probably overfitting the training set (or there is a bug, such as a data mismatch between the training set and the validation set).\n",
        "\n",
        "*   If the training set was very skewed, with some classes being overrepresented and others underrepresented, it would be useful to set the class_weight argument when\n",
        "calling the fit() method, giving a larger weight to underrepresented classes, and a\n",
        "lower weight to overrepresented classes. These weights would be used by Keras when\n",
        "computing the loss. If you need per-instance weights instead, you can set the sam\n",
        "ple_weight argument (it supersedes class_weight ). This could be useful for exam‐\n",
        "ple if some instances were labeled by experts while others were labeled using a\n",
        "crowdsourcing platform: you might want to give more weight to the former. You can\n",
        "also provide sample weights (but not class weights) for the validation set by adding\n",
        "them as a third item in the validation_data tuple.\n",
        "\n",
        "\n",
        "\n",
        "*   The fit() method returns a History object containing the training parameters ( his\n",
        "tory.params ), the list of epochs it went through ( history.epoch ), and most impor‐\n",
        "tantly a dictionary ( history.history ) containing the loss and extra metrics it\n",
        "measured at the end of each epoch on the training set and on the validation set (if any).\n",
        "\n",
        "\n",
        "\n"
      ],
      "metadata": {
        "id": "zgMrGJAYym79"
      }
    },
    {
      "cell_type": "code",
      "source": [
        "history = model.fit(X_train,y_train,epochs = 30 , validation_data=(X_valid,y_valid))"
      ],
      "metadata": {
        "colab": {
          "base_uri": "https://localhost:8080/"
        },
        "id": "7RDkrX0MyHuS",
        "outputId": "d14d145e-075f-48ca-eac0-a1f179cb8fc5"
      },
      "execution_count": 80,
      "outputs": [
        {
          "output_type": "stream",
          "name": "stdout",
          "text": [
            "Epoch 1/30\n",
            "1563/1563 [==============================] - 7s 4ms/step - loss: 0.7420 - accuracy: 0.7570 - val_loss: 0.5627 - val_accuracy: 0.7986\n",
            "Epoch 2/30\n",
            "1563/1563 [==============================] - 6s 4ms/step - loss: 0.5012 - accuracy: 0.8251 - val_loss: 0.5785 - val_accuracy: 0.7959\n",
            "Epoch 3/30\n",
            "1563/1563 [==============================] - 6s 4ms/step - loss: 0.4539 - accuracy: 0.8423 - val_loss: 0.4437 - val_accuracy: 0.8434\n",
            "Epoch 4/30\n",
            "1563/1563 [==============================] - 6s 4ms/step - loss: 0.4267 - accuracy: 0.8490 - val_loss: 0.4211 - val_accuracy: 0.8550\n",
            "Epoch 5/30\n",
            "1563/1563 [==============================] - 7s 4ms/step - loss: 0.4072 - accuracy: 0.8564 - val_loss: 0.4103 - val_accuracy: 0.8574\n",
            "Epoch 6/30\n",
            "1563/1563 [==============================] - 6s 4ms/step - loss: 0.3896 - accuracy: 0.8629 - val_loss: 0.4150 - val_accuracy: 0.8543\n",
            "Epoch 7/30\n",
            "1563/1563 [==============================] - 6s 4ms/step - loss: 0.3755 - accuracy: 0.8677 - val_loss: 0.3936 - val_accuracy: 0.8647\n",
            "Epoch 8/30\n",
            "1563/1563 [==============================] - 6s 4ms/step - loss: 0.3637 - accuracy: 0.8704 - val_loss: 0.3856 - val_accuracy: 0.8680\n",
            "Epoch 9/30\n",
            "1563/1563 [==============================] - 6s 4ms/step - loss: 0.3529 - accuracy: 0.8751 - val_loss: 0.3843 - val_accuracy: 0.8639\n",
            "Epoch 10/30\n",
            "1563/1563 [==============================] - 6s 4ms/step - loss: 0.3427 - accuracy: 0.8781 - val_loss: 0.3692 - val_accuracy: 0.8706\n",
            "Epoch 11/30\n",
            "1563/1563 [==============================] - 6s 4ms/step - loss: 0.3360 - accuracy: 0.8802 - val_loss: 0.3619 - val_accuracy: 0.8697\n",
            "Epoch 12/30\n",
            "1563/1563 [==============================] - 6s 4ms/step - loss: 0.3282 - accuracy: 0.8823 - val_loss: 0.3632 - val_accuracy: 0.8692\n",
            "Epoch 13/30\n",
            "1563/1563 [==============================] - 6s 4ms/step - loss: 0.3208 - accuracy: 0.8844 - val_loss: 0.3762 - val_accuracy: 0.8656\n",
            "Epoch 14/30\n",
            "1563/1563 [==============================] - 6s 4ms/step - loss: 0.3135 - accuracy: 0.8878 - val_loss: 0.3438 - val_accuracy: 0.8774\n",
            "Epoch 15/30\n",
            "1563/1563 [==============================] - 6s 4ms/step - loss: 0.3065 - accuracy: 0.8904 - val_loss: 0.3355 - val_accuracy: 0.8791\n",
            "Epoch 16/30\n",
            "1563/1563 [==============================] - 6s 4ms/step - loss: 0.2993 - accuracy: 0.8929 - val_loss: 0.3293 - val_accuracy: 0.8817\n",
            "Epoch 17/30\n",
            "1563/1563 [==============================] - 6s 4ms/step - loss: 0.2947 - accuracy: 0.8947 - val_loss: 0.3404 - val_accuracy: 0.8753\n",
            "Epoch 18/30\n",
            "1563/1563 [==============================] - 6s 4ms/step - loss: 0.2885 - accuracy: 0.8958 - val_loss: 0.3389 - val_accuracy: 0.8726\n",
            "Epoch 19/30\n",
            "1563/1563 [==============================] - 6s 4ms/step - loss: 0.2826 - accuracy: 0.8994 - val_loss: 0.3346 - val_accuracy: 0.8799\n",
            "Epoch 20/30\n",
            "1563/1563 [==============================] - 6s 4ms/step - loss: 0.2775 - accuracy: 0.9002 - val_loss: 0.3360 - val_accuracy: 0.8786\n",
            "Epoch 21/30\n",
            "1563/1563 [==============================] - 6s 4ms/step - loss: 0.2731 - accuracy: 0.9011 - val_loss: 0.3211 - val_accuracy: 0.8857\n",
            "Epoch 22/30\n",
            "1563/1563 [==============================] - 6s 4ms/step - loss: 0.2680 - accuracy: 0.9034 - val_loss: 0.3368 - val_accuracy: 0.8752\n",
            "Epoch 23/30\n",
            "1563/1563 [==============================] - 6s 4ms/step - loss: 0.2639 - accuracy: 0.9057 - val_loss: 0.3418 - val_accuracy: 0.8723\n",
            "Epoch 24/30\n",
            "1563/1563 [==============================] - 6s 4ms/step - loss: 0.2590 - accuracy: 0.9075 - val_loss: 0.3232 - val_accuracy: 0.8828\n",
            "Epoch 25/30\n",
            "1563/1563 [==============================] - 6s 4ms/step - loss: 0.2552 - accuracy: 0.9075 - val_loss: 0.3430 - val_accuracy: 0.8772\n",
            "Epoch 26/30\n",
            "1563/1563 [==============================] - 6s 4ms/step - loss: 0.2513 - accuracy: 0.9097 - val_loss: 0.3321 - val_accuracy: 0.8787\n",
            "Epoch 27/30\n",
            "1563/1563 [==============================] - 6s 4ms/step - loss: 0.2463 - accuracy: 0.9111 - val_loss: 0.3200 - val_accuracy: 0.8828\n",
            "Epoch 28/30\n",
            "1563/1563 [==============================] - 6s 4ms/step - loss: 0.2430 - accuracy: 0.9121 - val_loss: 0.3173 - val_accuracy: 0.8867\n",
            "Epoch 29/30\n",
            "1563/1563 [==============================] - 6s 4ms/step - loss: 0.2397 - accuracy: 0.9137 - val_loss: 0.3037 - val_accuracy: 0.8912\n",
            "Epoch 30/30\n",
            "1563/1563 [==============================] - 6s 4ms/step - loss: 0.2341 - accuracy: 0.9166 - val_loss: 0.3149 - val_accuracy: 0.8858\n"
          ]
        }
      ]
    },
    {
      "cell_type": "code",
      "source": [
        "print(history.params)"
      ],
      "metadata": {
        "colab": {
          "base_uri": "https://localhost:8080/"
        },
        "id": "_TLvm7I70tbm",
        "outputId": "1fa3b3bb-bc57-4496-d9f0-286c79386f0b"
      },
      "execution_count": 81,
      "outputs": [
        {
          "output_type": "stream",
          "name": "stdout",
          "text": [
            "{'verbose': 1, 'epochs': 30, 'steps': 1563}\n"
          ]
        }
      ]
    },
    {
      "cell_type": "code",
      "source": [
        "print(history.history)"
      ],
      "metadata": {
        "colab": {
          "base_uri": "https://localhost:8080/"
        },
        "id": "yPkDa2dI0w_h",
        "outputId": "144e1c12-8e69-4e26-aad3-46c4e6a9ea88"
      },
      "execution_count": 82,
      "outputs": [
        {
          "output_type": "stream",
          "name": "stdout",
          "text": [
            "{'loss': [0.7419835329055786, 0.5011602640151978, 0.45392873883247375, 0.4267113208770752, 0.40719228982925415, 0.3895912170410156, 0.3754938542842865, 0.36368614435195923, 0.35290905833244324, 0.34271419048309326, 0.33599600195884705, 0.3281891345977783, 0.3208375871181488, 0.31348979473114014, 0.30650758743286133, 0.2993382215499878, 0.2946738004684448, 0.2885264754295349, 0.2826102375984192, 0.2774747908115387, 0.2730691730976105, 0.267951101064682, 0.2638757824897766, 0.25895678997039795, 0.2552066743373871, 0.2512742578983307, 0.24632054567337036, 0.24301469326019287, 0.23973490297794342, 0.23411476612091064], 'accuracy': [0.7570000290870667, 0.8251000046730042, 0.8422600030899048, 0.8489599823951721, 0.8564000129699707, 0.8629199862480164, 0.8677399754524231, 0.8703600168228149, 0.8751400113105774, 0.8781399726867676, 0.8802400231361389, 0.8822799921035767, 0.8844000101089478, 0.8877599835395813, 0.8903599977493286, 0.8928999900817871, 0.8947200179100037, 0.8958200216293335, 0.8993800282478333, 0.9002000093460083, 0.9011200070381165, 0.9033600091934204, 0.9056599736213684, 0.9075000286102295, 0.9075199961662292, 0.9096999764442444, 0.9111400246620178, 0.91211998462677, 0.9137200117111206, 0.9165800213813782], 'val_loss': [0.562676191329956, 0.5784575939178467, 0.44374188780784607, 0.42112305760383606, 0.410322368144989, 0.4149568974971771, 0.3935561180114746, 0.3856145441532135, 0.38432058691978455, 0.3691902458667755, 0.3618610203266144, 0.3631632328033447, 0.37616202235221863, 0.34376922249794006, 0.33554017543792725, 0.3293231129646301, 0.3403703272342682, 0.33892858028411865, 0.33464616537094116, 0.3359535336494446, 0.3211319148540497, 0.3368234634399414, 0.34179624915122986, 0.3231903314590454, 0.3429502248764038, 0.33212462067604065, 0.3199809789657593, 0.31726762652397156, 0.3037033975124359, 0.3148534297943115], 'val_accuracy': [0.7986000180244446, 0.7958999872207642, 0.8434000015258789, 0.8550000190734863, 0.8574000000953674, 0.8543000221252441, 0.8647000193595886, 0.8679999709129333, 0.8639000058174133, 0.8705999851226807, 0.869700014591217, 0.8691999912261963, 0.8655999898910522, 0.8773999810218811, 0.8791000247001648, 0.8816999793052673, 0.8752999901771545, 0.8726000189781189, 0.8798999786376953, 0.878600001335144, 0.885699987411499, 0.8751999735832214, 0.8723000288009644, 0.8827999830245972, 0.8772000074386597, 0.8787000179290771, 0.8827999830245972, 0.8866999745368958, 0.8912000060081482, 0.8858000040054321]}\n"
          ]
        }
      ]
    },
    {
      "cell_type": "markdown",
      "source": [
        "# Visualization"
      ],
      "metadata": {
        "id": "wROznRmA09--"
      }
    },
    {
      "cell_type": "code",
      "source": [
        "import pandas as pd\n",
        "\n",
        "pd.DataFrame(history.history).plot(figsize=(20,10))\n",
        "plt.grid(True)\n",
        "plt.gca().set_ylim(0,1)\n",
        "plt.show()"
      ],
      "metadata": {
        "colab": {
          "base_uri": "https://localhost:8080/",
          "height": 596
        },
        "id": "twMqhpZ90yoe",
        "outputId": "5b94d89b-0da2-42fd-ad18-424b8520f84a"
      },
      "execution_count": 88,
      "outputs": [
        {
          "output_type": "display_data",
          "data": {
            "text/plain": [
              "<Figure size 1440x720 with 1 Axes>"
            ],
            "image/png": "[encoded data removed]"
          },
          "metadata": {
            "needs_background": "light"
          }
        }
      ]
    },
    {
      "cell_type": "markdown",
      "source": [
        "\n",
        "\n",
        "*   If you are not satisfied with the performance of your model, you should go back and\n",
        "tune the model’s hyperparameters, for example the number of layers, the number of\n",
        "neurons per layer, the types of activation functions we use for each hidden layer, the number of training epochs, the batch size (it can be set in the fit() method using the\n",
        "batch_size argument, which defaults to 32).\n",
        "\n",
        "*   Once you are satisfied with your model’s validation\n",
        "accuracy, you should evaluate it on the test set to estimate the generalization error\n",
        "before you deploy the model to production.\n",
        "\n"
      ],
      "metadata": {
        "id": "vf_7mogoyPEr"
      }
    },
    {
      "cell_type": "code",
      "source": [
        "model.evaluate(X_test,y_test)"
      ],
      "metadata": {
        "colab": {
          "base_uri": "https://localhost:8080/"
        },
        "id": "13obwbj12I99",
        "outputId": "1891e56b-099e-4216-84b6-b25c78fd9113"
      },
      "execution_count": 89,
      "outputs": [
        {
          "output_type": "stream",
          "name": "stdout",
          "text": [
            "313/313 [==============================] - 2s 5ms/step - loss: 61.2155 - accuracy: 0.8501\n"
          ]
        },
        {
          "output_type": "execute_result",
          "data": {
            "text/plain": [
              "[61.21548843383789, 0.8500999808311462]"
            ]
          },
          "metadata": {},
          "execution_count": 89
        }
      ]
    },
    {
      "cell_type": "code",
      "source": [
        "32*313"
      ],
      "metadata": {
        "colab": {
          "base_uri": "https://localhost:8080/"
        },
        "id": "_SRkaJbG2M7K",
        "outputId": "c3174128-0293-4d30-cdfe-cbc8a4799d20"
      },
      "execution_count": 92,
      "outputs": [
        {
          "output_type": "execute_result",
          "data": {
            "text/plain": [
              "10016"
            ]
          },
          "metadata": {},
          "execution_count": 92
        }
      ]
    },
    {
      "cell_type": "markdown",
      "source": [
        "# Using the Model To make Predictions"
      ],
      "metadata": {
        "id": "T4afR7FP278S"
      }
    },
    {
      "cell_type": "code",
      "source": [
        "X_new = X_test[:3]\n",
        "y_proba = model.predict(X_new)"
      ],
      "metadata": {
        "id": "nilVfWtR2ldh"
      },
      "execution_count": 93,
      "outputs": []
    },
    {
      "cell_type": "code",
      "source": [
        "y_proba"
      ],
      "metadata": {
        "colab": {
          "base_uri": "https://localhost:8080/"
        },
        "id": "dTxASBcv3GnV",
        "outputId": "7569aa36-6050-4a5f-85d1-5bc800e8b92f"
      },
      "execution_count": 94,
      "outputs": [
        {
          "output_type": "execute_result",
          "data": {
            "text/plain": [
              "array([[0., 0., 0., 0., 0., 0., 0., 0., 0., 1.],\n",
              "       [0., 0., 1., 0., 0., 0., 0., 0., 0., 0.],\n",
              "       [0., 1., 0., 0., 0., 0., 0., 0., 0., 0.]], dtype=float32)"
            ]
          },
          "metadata": {},
          "execution_count": 94
        }
      ]
    },
    {
      "cell_type": "code",
      "source": [
        "# if care about the class with the highest estimated probability\n",
        "predictClass=model.predict(X_new) \n",
        "classes_x=np.argmax(predictClass,axis=1)"
      ],
      "metadata": {
        "id": "pgmbS_h73ISj"
      },
      "execution_count": 103,
      "outputs": []
    },
    {
      "cell_type": "code",
      "source": [
        "classes_x"
      ],
      "metadata": {
        "colab": {
          "base_uri": "https://localhost:8080/"
        },
        "id": "61DseEak3Q1_",
        "outputId": "973b7aaf-40ed-4a3f-8c45-04f8c0f71beb"
      },
      "execution_count": 104,
      "outputs": [
        {
          "output_type": "execute_result",
          "data": {
            "text/plain": [
              "array([9, 2, 1])"
            ]
          },
          "metadata": {},
          "execution_count": 104
        }
      ]
    },
    {
      "cell_type": "code",
      "source": [
        "y_test[:3]"
      ],
      "metadata": {
        "colab": {
          "base_uri": "https://localhost:8080/"
        },
        "id": "DllZQ-f_3Yl8",
        "outputId": "d9de28d5-b7d0-4c60-e3ab-12beea7fa4be"
      },
      "execution_count": 105,
      "outputs": [
        {
          "output_type": "execute_result",
          "data": {
            "text/plain": [
              "array([9, 2, 1], dtype=uint8)"
            ]
          },
          "metadata": {},
          "execution_count": 105
        }
      ]
    },
    {
      "cell_type": "code",
      "source": [
        ""
      ],
      "metadata": {
        "id": "Op8qjd8H3jzt"
      },
      "execution_count": null,
      "outputs": []
    }
  ]
}